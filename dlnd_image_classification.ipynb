{
 "cells": [
  {
   "cell_type": "markdown",
   "metadata": {
    "collapsed": true
   },
   "source": [
    "# Image Classification\n",
    "In this project, you'll classify images from the [CIFAR-10 dataset](https://www.cs.toronto.edu/~kriz/cifar.html).  The dataset consists of airplanes, dogs, cats, and other objects. You'll preprocess the images, then train a convolutional neural network on all the samples. The images need to be normalized and the labels need to be one-hot encoded.  You'll get to apply what you learned and build a convolutional, max pooling, dropout, and fully connected layers.  At the end, you'll get to see your neural network's predictions on the sample images.\n",
    "## Get the Data\n",
    "Run the following cell to download the [CIFAR-10 dataset for python](https://www.cs.toronto.edu/~kriz/cifar-10-python.tar.gz)."
   ]
  },
  {
   "cell_type": "code",
   "execution_count": 1,
   "metadata": {
    "collapsed": false
   },
   "outputs": [
    {
     "name": "stderr",
     "output_type": "stream",
     "text": [
      "CIFAR-10 Dataset: 171MB [06:51, 415KB/s]                               \n"
     ]
    },
    {
     "name": "stdout",
     "output_type": "stream",
     "text": [
      "All files found!\n"
     ]
    }
   ],
   "source": [
    "\"\"\"\n",
    "DON'T MODIFY ANYTHING IN THIS CELL THAT IS BELOW THIS LINE\n",
    "\"\"\"\n",
    "from urllib.request import urlretrieve\n",
    "from os.path import isfile, isdir\n",
    "from tqdm import tqdm\n",
    "import problem_unittests as tests\n",
    "import tarfile\n",
    "\n",
    "cifar10_dataset_folder_path = 'cifar-10-batches-py'\n",
    "\n",
    "class DLProgress(tqdm):\n",
    "    last_block = 0\n",
    "\n",
    "    def hook(self, block_num=1, block_size=1, total_size=None):\n",
    "        self.total = total_size\n",
    "        self.update((block_num - self.last_block) * block_size)\n",
    "        self.last_block = block_num\n",
    "\n",
    "if not isfile('cifar-10-python.tar.gz'):\n",
    "    with DLProgress(unit='B', unit_scale=True, miniters=1, desc='CIFAR-10 Dataset') as pbar:\n",
    "        urlretrieve(\n",
    "            'https://www.cs.toronto.edu/~kriz/cifar-10-python.tar.gz',\n",
    "            'cifar-10-python.tar.gz',\n",
    "            pbar.hook)\n",
    "\n",
    "if not isdir(cifar10_dataset_folder_path):\n",
    "    with tarfile.open('cifar-10-python.tar.gz') as tar:\n",
    "        tar.extractall()\n",
    "        tar.close()\n",
    "\n",
    "\n",
    "tests.test_folder_path(cifar10_dataset_folder_path)"
   ]
  },
  {
   "cell_type": "markdown",
   "metadata": {},
   "source": [
    "## Explore the Data\n",
    "The dataset is broken into batches to prevent your machine from running out of memory.  The CIFAR-10 dataset consists of 5 batches, named `data_batch_1`, `data_batch_2`, etc.. Each batch contains the labels and images that are one of the following:\n",
    "* airplane\n",
    "* automobile\n",
    "* bird\n",
    "* cat\n",
    "* deer\n",
    "* dog\n",
    "* frog\n",
    "* horse\n",
    "* ship\n",
    "* truck\n",
    "\n",
    "Understanding a dataset is part of making predictions on the data.  Play around with the code cell below by changing the `batch_id` and `sample_id`. The `batch_id` is the id for a batch (1-5). The `sample_id` is the id for a image and label pair in the batch.\n",
    "\n",
    "Ask yourself \"What are all possible labels?\", \"What is the range of values for the image data?\", \"Are the labels in order or random?\".  Answers to questions like these will help you preprocess the data and end up with better predictions."
   ]
  },
  {
   "cell_type": "code",
   "execution_count": 13,
   "metadata": {
    "collapsed": false
   },
   "outputs": [
    {
     "name": "stdout",
     "output_type": "stream",
     "text": [
      "\n",
      "Stats of batch 3:\n",
      "Samples: 10000\n",
      "Label Counts: {0: 994, 1: 1042, 2: 965, 3: 997, 4: 990, 5: 1029, 6: 978, 7: 1015, 8: 961, 9: 1029}\n",
      "First 20 Labels: [8, 5, 0, 6, 9, 2, 8, 3, 6, 2, 7, 4, 6, 9, 0, 0, 7, 3, 7, 2]\n",
      "\n",
      "Example of Image 4:\n",
      "Image - Min Value: 10 Max Value: 255\n",
      "Image - Shape: (32, 32, 3)\n",
      "Label - Label Id: 9 Name: truck\n"
     ]
    },
    {
     "data": {
      "image/png": "[encoded data removed]",
      "text/plain": [
       "<matplotlib.figure.Figure at 0x11b970438>"
      ]
     },
     "metadata": {
      "image/png": {
       "height": 250,
       "width": 253
      }
     },
     "output_type": "display_data"
    }
   ],
   "source": [
    "%matplotlib inline\n",
    "%config InlineBackend.figure_format = 'retina'\n",
    "\n",
    "import helper\n",
    "import numpy as np\n",
    "\n",
    "# Explore the dataset\n",
    "batch_id = 3\n",
    "sample_id = 4\n",
    "helper.display_stats(cifar10_dataset_folder_path, batch_id, sample_id)"
   ]
  },
  {
   "cell_type": "markdown",
   "metadata": {},
   "source": [
    "## Implement Preprocess Functions\n",
    "### Normalize\n",
    "In the cell below, implement the `normalize` function to take in image data, `x`, and return it as a normalized Numpy array. The values should be in the range of 0 to 1, inclusive.  The return object should be the same shape as `x`."
   ]
  },
  {
   "cell_type": "code",
   "execution_count": 27,
   "metadata": {
    "collapsed": false
   },
   "outputs": [
    {
     "name": "stdout",
     "output_type": "stream",
     "text": [
      "Tests Passed\n"
     ]
    }
   ],
   "source": [
    "def normalize(x):\n",
    "    \"\"\"\n",
    "    Normalize a list of sample image data in the range of 0 to 1\n",
    "    : x: List of image data.  The image shape is (32, 32, 3)\n",
    "    : return: Numpy array of normalize data\n",
    "    \"\"\"\n",
    "    # TODO: Implement Function\n",
    "    x_size = x.shape\n",
    "    x_normalized = np.zeros(x_size)\n",
    "    for image in range(x_size[0]):\n",
    "        x_normalized[image,:,:,:] = (x[image,:,:,:] - np.amin(x[image,:,:,:])) / (np.amax(x[image,:,:,:]) - np.amin(x[image,:,:,:]))\n",
    "    return x_normalized\n",
    "\n",
    "\n",
    "\"\"\"\n",
    "DON'T MODIFY ANYTHING IN THIS CELL THAT IS BELOW THIS LINE\n",
    "\"\"\"\n",
    "tests.test_normalize(normalize)"
   ]
  },
  {
   "cell_type": "markdown",
   "metadata": {},
   "source": [
    "### One-hot encode\n",
    "Just like the previous code cell, you'll be implementing a function for preprocessing.  This time, you'll implement the `one_hot_encode` function. The input, `x`, are a list of labels.  Implement the function to return the list of labels as One-Hot encoded Numpy array.  The possible values for labels are 0 to 9. The one-hot encoding function should return the same encoding for each value between each call to `one_hot_encode`.  Make sure to save the map of encodings outside the function.\n",
    "\n",
    "Hint: Don't reinvent the wheel."
   ]
  },
  {
   "cell_type": "code",
   "execution_count": 152,
   "metadata": {
    "collapsed": false
   },
   "outputs": [
    {
     "name": "stdout",
     "output_type": "stream",
     "text": [
      "Tests Passed\n"
     ]
    }
   ],
   "source": [
    "def one_hot_encode(x):\n",
    "    \"\"\"\n",
    "    One hot encode a list of sample labels. Return a one-hot encoded vector for each label.\n",
    "    : x: List of sample Labels\n",
    "    : return: Numpy array of one-hot encoded labels\n",
    "    \"\"\"\n",
    "    # TODO: Implement Function\n",
    "    labels_encoded = np.zeros((len(x),10))\n",
    "    for index,label in enumerate(x):\n",
    "        labels_encoded[index,label] = 1\n",
    "    return labels_encoded\n",
    "\n",
    "\"\"\"\n",
    "DON'T MODIFY ANYTHING IN THIS CELL THAT IS BELOW THIS LINE\n",
    "\"\"\"\n",
    "tests.test_one_hot_encode(one_hot_encode)"
   ]
  },
  {
   "cell_type": "markdown",
   "metadata": {},
   "source": [
    "### Randomize Data\n",
    "As you saw from exploring the data above, the order of the samples are randomized.  It doesn't hurt to randomize it again, but you don't need to for this dataset."
   ]
  },
  {
   "cell_type": "markdown",
   "metadata": {},
   "source": [
    "## Preprocess all the data and save it\n",
    "Running the code cell below will preprocess all the CIFAR-10 data and save it to file. The code below also uses 10% of the training data for validation."
   ]
  },
  {
   "cell_type": "code",
   "execution_count": 153,
   "metadata": {
    "collapsed": false
   },
   "outputs": [],
   "source": [
    "\"\"\"\n",
    "DON'T MODIFY ANYTHING IN THIS CELL\n",
    "\"\"\"\n",
    "# Preprocess Training, Validation, and Testing Data\n",
    "helper.preprocess_and_save_data(cifar10_dataset_folder_path, normalize, one_hot_encode)"
   ]
  },
  {
   "cell_type": "markdown",
   "metadata": {},
   "source": [
    "# Check Point\n",
    "This is your first checkpoint.  If you ever decide to come back to this notebook or have to restart the notebook, you can start from here.  The preprocessed data has been saved to disk."
   ]
  },
  {
   "cell_type": "code",
   "execution_count": 395,
   "metadata": {
    "collapsed": true
   },
   "outputs": [],
   "source": [
    "\"\"\"\n",
    "DON'T MODIFY ANYTHING IN THIS CELL\n",
    "\"\"\"\n",
    "import pickle\n",
    "import problem_unittests as tests\n",
    "import helper\n",
    "\n",
    "# Load the Preprocessed Validation data\n",
    "valid_features, valid_labels = pickle.load(open('preprocess_validation.p', mode='rb'))"
   ]
  },
  {
   "cell_type": "markdown",
   "metadata": {},
   "source": [
    "## Build the network\n",
    "For the neural network, you'll build each layer into a function.  Most of the code you've seen has been outside of functions. To test your code more thoroughly, we require that you put each layer in a function.  This allows us to give you better feedback and test for simple mistakes using our unittests before you submit your project.\n",
    "\n",
    ">**Note:** If you're finding it hard to dedicate enough time for this course each week, we've provided a small shortcut to this part of the project. In the next couple of problems, you'll have the option to use classes from the [TensorFlow Layers](https://www.tensorflow.org/api_docs/python/tf/layers) or [TensorFlow Layers (contrib)](https://www.tensorflow.org/api_guides/python/contrib.layers) packages to build each layer, except the layers you build in the \"Convolutional and Max Pooling Layer\" section.  TF Layers is similar to Keras's and TFLearn's abstraction to layers, so it's easy to pickup.\n",
    "\n",
    ">However, if you would like to get the most out of this course, try to solve all the problems _without_ using anything from the TF Layers packages. You **can** still use classes from other packages that happen to have the same name as ones you find in TF Layers! For example, instead of using the TF Layers version of the `conv2d` class, [tf.layers.conv2d](https://www.tensorflow.org/api_docs/python/tf/layers/conv2d), you would want to use the TF Neural Network version of `conv2d`, [tf.nn.conv2d](https://www.tensorflow.org/api_docs/python/tf/nn/conv2d). \n",
    "\n",
    "Let's begin!\n",
    "\n",
    "### Input\n",
    "The neural network needs to read the image data, one-hot encoded labels, and dropout keep probability. Implement the following functions\n",
    "* Implement `neural_net_image_input`\n",
    " * Return a [TF Placeholder](https://www.tensorflow.org/api_docs/python/tf/placeholder)\n",
    " * Set the shape using `image_shape` with batch size set to `None`.\n",
    " * Name the TensorFlow placeholder \"x\" using the TensorFlow `name` parameter in the [TF Placeholder](https://www.tensorflow.org/api_docs/python/tf/placeholder).\n",
    "* Implement `neural_net_label_input`\n",
    " * Return a [TF Placeholder](https://www.tensorflow.org/api_docs/python/tf/placeholder)\n",
    " * Set the shape using `n_classes` with batch size set to `None`.\n",
    " * Name the TensorFlow placeholder \"y\" using the TensorFlow `name` parameter in the [TF Placeholder](https://www.tensorflow.org/api_docs/python/tf/placeholder).\n",
    "* Implement `neural_net_keep_prob_input`\n",
    " * Return a [TF Placeholder](https://www.tensorflow.org/api_docs/python/tf/placeholder) for dropout keep probability.\n",
    " * Name the TensorFlow placeholder \"keep_prob\" using the TensorFlow `name` parameter in the [TF Placeholder](https://www.tensorflow.org/api_docs/python/tf/placeholder).\n",
    "\n",
    "These names will be used at the end of the project to load your saved model.\n",
    "\n",
    "Note: `None` for shapes in TensorFlow allow for a dynamic size."
   ]
  },
  {
   "cell_type": "code",
   "execution_count": 396,
   "metadata": {
    "collapsed": false
   },
   "outputs": [
    {
     "name": "stdout",
     "output_type": "stream",
     "text": [
      "Image Input Tests Passed.\n",
      "Label Input Tests Passed.\n",
      "Keep Prob Tests Passed.\n"
     ]
    }
   ],
   "source": [
    "import tensorflow as tf\n",
    "\n",
    "def neural_net_image_input(image_shape):\n",
    "    \"\"\"\n",
    "    Return a Tensor for a bach of image input\n",
    "    : image_shape: Shape of the images\n",
    "    : return: Tensor for image input.\n",
    "    \"\"\"\n",
    "    # TODO: Implement Function\n",
    "    input_data = tf.placeholder(tf.float32,[None, image_shape[0], image_shape[1], image_shape[2]], name ='x')\n",
    "    return input_data\n",
    "\n",
    "\n",
    "def neural_net_label_input(n_classes):\n",
    "    \"\"\"\n",
    "    Return a Tensor for a batch of label input\n",
    "    : n_classes: Number of classes\n",
    "    : return: Tensor for label input.\n",
    "    \"\"\"\n",
    "    # TODO: Implement Function\n",
    "    label_data = tf.placeholder(tf.float32,[None, n_classes], name ='y')\n",
    "    return label_data\n",
    "\n",
    "\n",
    "def neural_net_keep_prob_input():\n",
    "    \"\"\"\n",
    "    Return a Tensor for keep probability\n",
    "    : return: Tensor for keep probability.\n",
    "    \"\"\"\n",
    "    # TODO: Implement Function\n",
    "    drop_keep_per = tf.placeholder(tf.float32,name='keep_prob')\n",
    "    return drop_keep_per\n",
    "\n",
    "\n",
    "\"\"\"\n",
    "DON'T MODIFY ANYTHING IN THIS CELL THAT IS BELOW THIS LINE\n",
    "\"\"\"\n",
    "tf.reset_default_graph()\n",
    "tests.test_nn_image_inputs(neural_net_image_input)\n",
    "tests.test_nn_label_inputs(neural_net_label_input)\n",
    "tests.test_nn_keep_prob_inputs(neural_net_keep_prob_input)"
   ]
  },
  {
   "cell_type": "markdown",
   "metadata": {},
   "source": [
    "### Convolution and Max Pooling Layer\n",
    "Convolution layers have a lot of success with images. For this code cell, you should implement the function `conv2d_maxpool` to apply convolution then max pooling:\n",
    "* Create the weight and bias using `conv_ksize`, `conv_num_outputs` and the shape of `x_tensor`.\n",
    "* Apply a convolution to `x_tensor` using weight and `conv_strides`.\n",
    " * We recommend you use same padding, but you're welcome to use any padding.\n",
    "* Add bias\n",
    "* Add a nonlinear activation to the convolution.\n",
    "* Apply Max Pooling using `pool_ksize` and `pool_strides`.\n",
    " * We recommend you use same padding, but you're welcome to use any padding.\n",
    "\n",
    "**Note:** You **can't** use [TensorFlow Layers](https://www.tensorflow.org/api_docs/python/tf/layers) or [TensorFlow Layers (contrib)](https://www.tensorflow.org/api_guides/python/contrib.layers) for **this** layer, but you can still use TensorFlow's [Neural Network](https://www.tensorflow.org/api_docs/python/tf/nn) package. You may still use the shortcut option for all the **other** layers."
   ]
  },
  {
   "cell_type": "code",
   "execution_count": 474,
   "metadata": {
    "collapsed": false,
    "scrolled": false
   },
   "outputs": [
    {
     "name": "stdout",
     "output_type": "stream",
     "text": [
      "Tests Passed\n"
     ]
    }
   ],
   "source": [
    "def conv2d_maxpool(x_tensor, conv_num_outputs, conv_ksize, conv_strides, pool_ksize, pool_strides):\n",
    "    \"\"\"\n",
    "    Apply convolution then max pooling to x_tensor\n",
    "    :param x_tensor: TensorFlow Tensor\n",
    "    :param conv_num_outputs: Number of outputs for the convolutional layer\n",
    "    :param conv_ksize: kernal size 2-D Tuple for the convolutional layer\n",
    "    :param conv_strides: Stride 2-D Tuple for convolution\n",
    "    :param pool_ksize: kernal size 2-D Tuple for pool\n",
    "    :param pool_strides: Stride 2-D Tuple for pool\n",
    "    : return: A tensor that represents convolution and max pooling of x_tensor\n",
    "    \"\"\"\n",
    "    # TODO: Implement Function\n",
    "    input_size = x_tensor.get_shape().as_list()\n",
    "    height_input = input_size[1]\n",
    "    width_input  = input_size[2]\n",
    "    num_channels = input_size[3]\n",
    "    \n",
    "    filter_size_height = conv_ksize[0]\n",
    "    filter_size_width = conv_ksize[1]\n",
    "    \n",
    "    weight = tf.Variable(tf.truncated_normal([filter_size_height,filter_size_width,num_channels,conv_num_outputs]))\n",
    "    bias = tf.Variable(tf.zeros(conv_num_outputs))\n",
    "    \n",
    "    #applying the convolution\n",
    "    conv_layer = tf.nn.conv2d(x_tensor,weight,[1,conv_strides[0],conv_strides[1],1],padding = 'SAME')\n",
    "    conv_layer = tf.nn.bias_add(conv_layer, bias)\n",
    "    conv_layer = tf.nn.relu(conv_layer)\n",
    "    conv_layer = tf.nn.max_pool(conv_layer,[1,pool_ksize[0],pool_ksize[1],1],[1,pool_strides[0],pool_strides[1],1],padding='SAME')\n",
    "    return conv_layer \n",
    "\n",
    "\n",
    "\"\"\"\n",
    "DON'T MODIFY ANYTHING IN THIS CELL THAT IS BELOW THIS LINE\n",
    "\"\"\"\n",
    "tests.test_con_pool(conv2d_maxpool)"
   ]
  },
  {
   "cell_type": "markdown",
   "metadata": {},
   "source": [
    "### Flatten Layer\n",
    "Implement the `flatten` function to change the dimension of `x_tensor` from a 4-D tensor to a 2-D tensor.  The output should be the shape (*Batch Size*, *Flattened Image Size*). Shortcut option: you can use classes from the [TensorFlow Layers](https://www.tensorflow.org/api_docs/python/tf/layers) or [TensorFlow Layers (contrib)](https://www.tensorflow.org/api_guides/python/contrib.layers) packages for this layer. For more of a challenge, only use other TensorFlow packages."
   ]
  },
  {
   "cell_type": "code",
   "execution_count": 475,
   "metadata": {
    "collapsed": false
   },
   "outputs": [
    {
     "name": "stdout",
     "output_type": "stream",
     "text": [
      "Tests Passed\n"
     ]
    }
   ],
   "source": [
    "def flatten(x_tensor):\n",
    "    \"\"\"\n",
    "    Flatten x_tensor to (Batch Size, Flattened Image Size)\n",
    "    : x_tensor: A tensor of size (Batch Size, ...), where ... are the image dimensions.\n",
    "    : return: A tensor of size (Batch Size, Flattened Image Size).\n",
    "    \"\"\"\n",
    "    # TODO: Implement Function\n",
    "    return tf.contrib.layers.flatten(x_tensor)\n",
    "\n",
    "\n",
    "\"\"\"\n",
    "DON'T MODIFY ANYTHING IN THIS CELL THAT IS BELOW THIS LINE\n",
    "\"\"\"\n",
    "tests.test_flatten(flatten)"
   ]
  },
  {
   "cell_type": "markdown",
   "metadata": {},
   "source": [
    "### Fully-Connected Layer\n",
    "Implement the `fully_conn` function to apply a fully connected layer to `x_tensor` with the shape (*Batch Size*, *num_outputs*). Shortcut option: you can use classes from the [TensorFlow Layers](https://www.tensorflow.org/api_docs/python/tf/layers) or [TensorFlow Layers (contrib)](https://www.tensorflow.org/api_guides/python/contrib.layers) packages for this layer. For more of a challenge, only use other TensorFlow packages."
   ]
  },
  {
   "cell_type": "code",
   "execution_count": 488,
   "metadata": {
    "collapsed": false
   },
   "outputs": [
    {
     "name": "stdout",
     "output_type": "stream",
     "text": [
      "Tests Passed\n"
     ]
    }
   ],
   "source": [
    "def fully_conn(x_tensor, num_outputs):\n",
    "    \"\"\"\n",
    "    Apply a fully connected layer to x_tensor using weight and bias\n",
    "    : x_tensor: A 2-D tensor where the first dimension is batch size.\n",
    "    : num_outputs: The number of output that the new tensor should be.\n",
    "    : return: A 2-D tensor where the second dimension is num_outputs.\n",
    "    \"\"\"\n",
    "    # TODO: Implement Function \n",
    "    datasize = x_tensor.get_shape().as_list()[1]\n",
    "    weight = tf.Variable(tf.truncated_normal([datasize, num_outputs],mean=0.0, stddev=0.1))\n",
    "    bias = tf.Variable(tf.zeros(num_outputs))\n",
    "    out = tf.add(tf.matmul(x_tensor, weight), bias)\n",
    "    #tf.contrib.layers.fully_connected(x_tensor,num_outputs)\n",
    "    return out\n",
    "\n",
    "\n",
    "\"\"\"\n",
    "DON'T MODIFY ANYTHING IN THIS CELL THAT IS BELOW THIS LINE\n",
    "\"\"\"\n",
    "tests.test_fully_conn(fully_conn)"
   ]
  },
  {
   "cell_type": "markdown",
   "metadata": {},
   "source": [
    "### Output Layer\n",
    "Implement the `output` function to apply a fully connected layer to `x_tensor` with the shape (*Batch Size*, *num_outputs*). Shortcut option: you can use classes from the [TensorFlow Layers](https://www.tensorflow.org/api_docs/python/tf/layers) or [TensorFlow Layers (contrib)](https://www.tensorflow.org/api_guides/python/contrib.layers) packages for this layer. For more of a challenge, only use other TensorFlow packages.\n",
    "\n",
    "**Note:** Activation, softmax, or cross entropy should **not** be applied to this."
   ]
  },
  {
   "cell_type": "code",
   "execution_count": 489,
   "metadata": {
    "collapsed": false
   },
   "outputs": [
    {
     "name": "stdout",
     "output_type": "stream",
     "text": [
      "Tests Passed\n"
     ]
    }
   ],
   "source": [
    "def output(x_tensor, num_outputs):\n",
    "    \"\"\"\n",
    "    Apply a output layer to x_tensor using weight and bias\n",
    "    : x_tensor: A 2-D tensor where the first dimension is batch size.\n",
    "    : num_outputs: The number of output that the new tensor should be.\n",
    "    : return: A 2-D tensor where the second dimension is num_outputs.\n",
    "    \"\"\"\n",
    "    # TODO: Implement Function\n",
    "    return tf.contrib.layers.fully_connected(x_tensor,num_outputs,activation_fn=None)\n",
    "\n",
    "\n",
    "\"\"\"\n",
    "DON'T MODIFY ANYTHING IN THIS CELL THAT IS BELOW THIS LINE\n",
    "\"\"\"\n",
    "tests.test_output(output)"
   ]
  },
  {
   "cell_type": "markdown",
   "metadata": {},
   "source": [
    "### Create Convolutional Model\n",
    "Implement the function `conv_net` to create a convolutional neural network model. The function takes in a batch of images, `x`, and outputs logits.  Use the layers you created above to create this model:\n",
    "\n",
    "* Apply 1, 2, or 3 Convolution and Max Pool layers\n",
    "* Apply a Flatten Layer\n",
    "* Apply 1, 2, or 3 Fully Connected Layers\n",
    "* Apply an Output Layer\n",
    "* Return the output\n",
    "* Apply [TensorFlow's Dropout](https://www.tensorflow.org/api_docs/python/tf/nn/dropout) to one or more layers in the model using `keep_prob`. "
   ]
  },
  {
   "cell_type": "code",
   "execution_count": 512,
   "metadata": {
    "collapsed": false
   },
   "outputs": [
    {
     "name": "stdout",
     "output_type": "stream",
     "text": [
      "Neural Network Built!\n"
     ]
    }
   ],
   "source": [
    "def conv_net(x, keep_prob):\n",
    "    \"\"\"\n",
    "    Create a convolutional neural network model\n",
    "    : x: Placeholder tensor that holds image data.\n",
    "    : keep_prob: Placeholder tensor that hold dropout keep probability.\n",
    "    : return: Tensor that represents logits\n",
    "    \"\"\"\n",
    "    # TODO: Apply 1, 2, or 3 Convolution and Max Pool layers\n",
    "    #    Play around with different number of outputs, kernel size and stride\n",
    "    # Function Definition from Above:\n",
    "    #    conv2d_maxpool(x_tensor, conv_num_outputs, conv_ksize, conv_strides, pool_ksize, pool_strides)\n",
    "    conv_layer = conv2d_maxpool(x, 5,  [2,2], [1,1], [2,2], [1,1])\n",
    "    conv_layer = conv2d_maxpool(x, 10,  [4,4], [1,1], [2,2], [1,1])\n",
    "\n",
    "\n",
    "    # TODO: Apply a Flatten Layer\n",
    "    # Function Definition from Above:\n",
    "    #   flatten(x_tensor)\n",
    "    conv_flattened = flatten(conv_layer)\n",
    "\n",
    "    # TODO: Apply 1, 2, or 3 Fully Connected Layers\n",
    "    #    Play around with different number of outputs\n",
    "    # Function Definition from Above:\n",
    "    #   fully_conn(x_tensor, num_outputs)\n",
    "    full_connected_layer = fully_conn(conv_flattened, 50)\n",
    "    full_connected_layer_dropped = tf.nn.dropout(full_connected_layer,keep_prob)\n",
    "    # TODO: Apply an Output Layer\n",
    "    #    Set this to the number of classes\n",
    "    # Function Definition from Above:\n",
    "    #   output(x_tensor, num_outputs)\n",
    "    logits = output(full_connected_layer, 10)\n",
    "    \n",
    "    # TODO: return output\n",
    "    return logits\n",
    "\n",
    "\n",
    "\"\"\"\n",
    "DON'T MODIFY ANYTHING IN THIS CELL THAT IS BELOW THIS LINE\n",
    "\"\"\"\n",
    "\n",
    "##############################\n",
    "## Build the Neural Network ##\n",
    "##############################\n",
    "\n",
    "# Remove previous weights, bias, inputs, etc..\n",
    "tf.reset_default_graph()\n",
    "\n",
    "# Inputs\n",
    "x = neural_net_image_input((32, 32, 3))\n",
    "y = neural_net_label_input(10)\n",
    "keep_prob = neural_net_keep_prob_input()\n",
    "# Model\n",
    "logits = conv_net(x, keep_prob)\n",
    "\n",
    "# Name logits Tensor, so that is can be loaded from disk after training\n",
    "logits = tf.identity(logits, name='logits')\n",
    "\n",
    "# Loss and Optimizer\n",
    "cost = tf.reduce_mean(tf.nn.softmax_cross_entropy_with_logits(logits=logits, labels=y))\n",
    "optimizer = tf.train.AdamOptimizer().minimize(cost)\n",
    "\n",
    "# Accuracy\n",
    "correct_pred = tf.equal(tf.argmax(logits, 1), tf.argmax(y, 1))\n",
    "accuracy = tf.reduce_mean(tf.cast(correct_pred, tf.float32), name='accuracy')\n",
    "\n",
    "tests.test_conv_net(conv_net)"
   ]
  },
  {
   "cell_type": "markdown",
   "metadata": {},
   "source": [
    "## Train the Neural Network\n",
    "### Single Optimization\n",
    "Implement the function `train_neural_network` to do a single optimization.  The optimization should use `optimizer` to optimize in `session` with a `feed_dict` of the following:\n",
    "* `x` for image input\n",
    "* `y` for labels\n",
    "* `keep_prob` for keep probability for dropout\n",
    "\n",
    "This function will be called for each batch, so `tf.global_variables_initializer()` has already been called.\n",
    "\n",
    "Note: Nothing needs to be returned. This function is only optimizing the neural network."
   ]
  },
  {
   "cell_type": "code",
   "execution_count": 513,
   "metadata": {
    "collapsed": false
   },
   "outputs": [
    {
     "name": "stdout",
     "output_type": "stream",
     "text": [
      "Tests Passed\n"
     ]
    }
   ],
   "source": [
    "def train_neural_network(session, optimizer, keep_probability, feature_batch, label_batch):\n",
    "    \"\"\"\n",
    "    Optimize the session on a batch of images and labels\n",
    "    : session: Current TensorFlow session\n",
    "    : optimizer: TensorFlow optimizer function\n",
    "    : keep_probability: keep probability\n",
    "    : feature_batch: Batch of Numpy image data\n",
    "    : label_batch: Batch of Numpy label data\n",
    "    \"\"\"\n",
    "    # TODO: Implement Function\n",
    "    session.run(optimizer,feed_dict={x: feature_batch, y: label_batch, keep_prob: keep_probability})\n",
    "    pass\n",
    "  \n",
    "\n",
    "\n",
    "\"\"\"\n",
    "DON'T MODIFY ANYTHING IN THIS CELL THAT IS BELOW THIS LINE\n",
    "\"\"\"\n",
    "tests.test_train_nn(train_neural_network)"
   ]
  },
  {
   "cell_type": "markdown",
   "metadata": {},
   "source": [
    "### Show Stats\n",
    "Implement the function `print_stats` to print loss and validation accuracy.  Use the global variables `valid_features` and `valid_labels` to calculate validation accuracy.  Use a keep probability of `1.0` to calculate the loss and validation accuracy."
   ]
  },
  {
   "cell_type": "code",
   "execution_count": 514,
   "metadata": {
    "collapsed": false
   },
   "outputs": [],
   "source": [
    "def print_stats(session, feature_batch, label_batch, cost, accuracy):\n",
    "    \"\"\"\n",
    "    Print information about loss and validation accuracy\n",
    "    : session: Current TensorFlow session\n",
    "    : feature_batch: Batch of Numpy image data\n",
    "    : label_batch: Batch of Numpy label data\n",
    "    : cost: TensorFlow cost function\n",
    "    : accuracy: TensorFlow accuracy function\n",
    "    \"\"\"\n",
    "    # TODO: Implement Function\n",
    "    loss           = session.run(cost,     feed_dict={x: feature_batch, y: label_batch, keep_prob: 1.})\n",
    "    validation_acc = session.run(accuracy, feed_dict={x: valid_features,y: valid_labels,keep_prob: 1.})\n",
    "    print('Training Loss:', loss, 'Validation Accuracy', validation_acc*100, '%')\n",
    "    pass"
   ]
  },
  {
   "cell_type": "markdown",
   "metadata": {},
   "source": [
    "### Hyperparameters\n",
    "Tune the following parameters:\n",
    "* Set `epochs` to the number of iterations until the network stops learning or start overfitting\n",
    "* Set `batch_size` to the highest number that your machine has memory for.  Most people set them to common sizes of memory:\n",
    " * 64\n",
    " * 128\n",
    " * 256\n",
    " * ...\n",
    "* Set `keep_probability` to the probability of keeping a node using dropout"
   ]
  },
  {
   "cell_type": "code",
   "execution_count": 518,
   "metadata": {
    "collapsed": true
   },
   "outputs": [],
   "source": [
    "# TODO: Tune Parameters\n",
    "epochs = 20\n",
    "batch_size = 128\n",
    "keep_probability = 0.5"
   ]
  },
  {
   "cell_type": "markdown",
   "metadata": {},
   "source": [
    "### Train on a Single CIFAR-10 Batch\n",
    "Instead of training the neural network on all the CIFAR-10 batches of data, let's use a single batch. This should save time while you iterate on the model to get a better accuracy.  Once the final validation accuracy is 50% or greater, run the model on all the data in the next section."
   ]
  },
  {
   "cell_type": "code",
   "execution_count": 519,
   "metadata": {
    "collapsed": false
   },
   "outputs": [
    {
     "name": "stdout",
     "output_type": "stream",
     "text": [
      "Checking the Training on a Single Batch...\n",
      "Epoch  1, CIFAR-10 Batch 1:  Training Loss: 6.49522 Validation Accuracy 27.4800002575 %\n",
      "Epoch  2, CIFAR-10 Batch 1:  Training Loss: 3.80056 Validation Accuracy 32.5199991465 %\n",
      "Epoch  3, CIFAR-10 Batch 1:  Training Loss: 2.53418 Validation Accuracy 33.4800004959 %\n",
      "Epoch  4, CIFAR-10 Batch 1:  Training Loss: 1.86867 Validation Accuracy 35.3199988604 %\n",
      "Epoch  5, CIFAR-10 Batch 1:  Training Loss: 1.25492 Validation Accuracy 37.8600001335 %\n",
      "Epoch  6, CIFAR-10 Batch 1:  Training Loss: 1.02363 Validation Accuracy 38.560000062 %\n",
      "Epoch  7, CIFAR-10 Batch 1:  Training Loss: 0.976082 Validation Accuracy 36.9800001383 %\n",
      "Epoch  8, CIFAR-10 Batch 1:  Training Loss: 0.767271 Validation Accuracy 35.8000010252 %\n",
      "Epoch  9, CIFAR-10 Batch 1:  Training Loss: 0.648235 Validation Accuracy 36.7599993944 %\n",
      "Epoch 10, CIFAR-10 Batch 1:  Training Loss: 0.527567 Validation Accuracy 38.1000012159 %\n",
      "Epoch 11, CIFAR-10 Batch 1:  Training Loss: 0.549752 Validation Accuracy 37.1199995279 %\n",
      "Epoch 12, CIFAR-10 Batch 1:  Training Loss: 0.480208 Validation Accuracy 39.5599991083 %\n",
      "Epoch 13, CIFAR-10 Batch 1:  Training Loss: 0.460092 Validation Accuracy 38.9400005341 %\n",
      "Epoch 14, CIFAR-10 Batch 1:  Training Loss: 0.409389 Validation Accuracy 39.0799999237 %\n",
      "Epoch 15, CIFAR-10 Batch 1:  Training Loss: 0.350006 Validation Accuracy 39.5399987698 %\n",
      "Epoch 16, CIFAR-10 Batch 1:  Training Loss: 0.304174 Validation Accuracy 40.000000596 %\n",
      "Epoch 17, CIFAR-10 Batch 1:  Training Loss: 0.27621 Validation Accuracy 40.1199996471 %\n",
      "Epoch 18, CIFAR-10 Batch 1:  Training Loss: 0.253148 Validation Accuracy 40.3800010681 %\n",
      "Epoch 19, CIFAR-10 Batch 1:  Training Loss: 0.235996 Validation Accuracy 41.2600010633 %\n",
      "Epoch 20, CIFAR-10 Batch 1:  Training Loss: 0.234284 Validation Accuracy 41.1799997091 %\n"
     ]
    }
   ],
   "source": [
    "\"\"\"\n",
    "DON'T MODIFY ANYTHING IN THIS CELL\n",
    "\"\"\"\n",
    "print('Checking the Training on a Single Batch...')\n",
    "with tf.Session() as sess:\n",
    "    # Initializing the variables\n",
    "    sess.run(tf.global_variables_initializer())\n",
    "    \n",
    "    # Training cycle\n",
    "    for epoch in range(epochs):\n",
    "        batch_i = 1\n",
    "        for batch_features, batch_labels in helper.load_preprocess_training_batch(batch_i, batch_size):\n",
    "            train_neural_network(sess, optimizer, keep_probability, batch_features, batch_labels)\n",
    "        print('Epoch {:>2}, CIFAR-10 Batch {}:  '.format(epoch + 1, batch_i), end='')\n",
    "        print_stats(sess, batch_features, batch_labels, cost, accuracy)"
   ]
  },
  {
   "cell_type": "markdown",
   "metadata": {},
   "source": [
    "### Fully Train the Model\n",
    "Now that you got a good accuracy with a single CIFAR-10 batch, try it with all five batches."
   ]
  },
  {
   "cell_type": "code",
   "execution_count": 520,
   "metadata": {
    "collapsed": false
   },
   "outputs": [
    {
     "name": "stdout",
     "output_type": "stream",
     "text": [
      "Training...\n",
      "Epoch  1, CIFAR-10 Batch 1:  Training Loss: 8.11046 Validation Accuracy 25.3199994564 %\n",
      "Epoch  1, CIFAR-10 Batch 2:  Training Loss: 5.07433 Validation Accuracy 31.4200013876 %\n",
      "Epoch  1, CIFAR-10 Batch 3:  Training Loss: 3.15731 Validation Accuracy 35.8599990606 %\n",
      "Epoch  1, CIFAR-10 Batch 4:  Training Loss: 4.03434 Validation Accuracy 35.0800007582 %\n",
      "Epoch  1, CIFAR-10 Batch 5:  Training Loss: 2.93967 Validation Accuracy 34.7000002861 %\n",
      "Epoch  2, CIFAR-10 Batch 1:  Training Loss: 3.72138 Validation Accuracy 38.1599992514 %\n",
      "Epoch  2, CIFAR-10 Batch 2:  Training Loss: 1.94344 Validation Accuracy 40.5800014734 %\n",
      "Epoch  2, CIFAR-10 Batch 3:  Training Loss: 1.60072 Validation Accuracy 42.5999999046 %\n",
      "Epoch  2, CIFAR-10 Batch 4:  Training Loss: 2.03794 Validation Accuracy 42.9600000381 %\n",
      "Epoch  2, CIFAR-10 Batch 5:  Training Loss: 1.7352 Validation Accuracy 44.6200013161 %\n",
      "Epoch  3, CIFAR-10 Batch 1:  Training Loss: 1.99548 Validation Accuracy 44.4000005722 %\n",
      "Epoch  3, CIFAR-10 Batch 2:  Training Loss: 1.30197 Validation Accuracy 44.6399986744 %\n",
      "Epoch  3, CIFAR-10 Batch 3:  Training Loss: 1.37096 Validation Accuracy 44.7600007057 %\n",
      "Epoch  3, CIFAR-10 Batch 4:  Training Loss: 1.49434 Validation Accuracy 45.7800000906 %\n",
      "Epoch  3, CIFAR-10 Batch 5:  Training Loss: 1.36726 Validation Accuracy 46.360000968 %\n",
      "Epoch  4, CIFAR-10 Batch 1:  Training Loss: 1.64699 Validation Accuracy 44.960001111 %\n",
      "Epoch  4, CIFAR-10 Batch 2:  Training Loss: 1.04693 Validation Accuracy 47.2400009632 %\n",
      "Epoch  4, CIFAR-10 Batch 3:  Training Loss: 0.970139 Validation Accuracy 47.1799999475 %\n",
      "Epoch  4, CIFAR-10 Batch 4:  Training Loss: 1.20684 Validation Accuracy 46.4199990034 %\n",
      "Epoch  4, CIFAR-10 Batch 5:  Training Loss: 1.25294 Validation Accuracy 48.5399991274 %\n",
      "Epoch  5, CIFAR-10 Batch 1:  Training Loss: 1.37516 Validation Accuracy 47.8599995375 %\n",
      "Epoch  5, CIFAR-10 Batch 2:  Training Loss: 0.892181 Validation Accuracy 48.6200004816 %\n",
      "Epoch  5, CIFAR-10 Batch 3:  Training Loss: 0.782994 Validation Accuracy 48.6200004816 %\n",
      "Epoch  5, CIFAR-10 Batch 4:  Training Loss: 1.03903 Validation Accuracy 47.7800011635 %\n",
      "Epoch  5, CIFAR-10 Batch 5:  Training Loss: 1.1187 Validation Accuracy 49.3200004101 %\n",
      "Epoch  6, CIFAR-10 Batch 1:  Training Loss: 1.24787 Validation Accuracy 49.3800014257 %\n",
      "Epoch  6, CIFAR-10 Batch 2:  Training Loss: 0.807983 Validation Accuracy 49.7200012207 %\n",
      "Epoch  6, CIFAR-10 Batch 3:  Training Loss: 0.671976 Validation Accuracy 49.8400002718 %\n",
      "Epoch  6, CIFAR-10 Batch 4:  Training Loss: 0.918663 Validation Accuracy 49.1400003433 %\n",
      "Epoch  6, CIFAR-10 Batch 5:  Training Loss: 0.99008 Validation Accuracy 50.0400006771 %\n",
      "Epoch  7, CIFAR-10 Batch 1:  Training Loss: 1.15584 Validation Accuracy 50.7399976254 %\n",
      "Epoch  7, CIFAR-10 Batch 2:  Training Loss: 0.735831 Validation Accuracy 50.6200015545 %\n",
      "Epoch  7, CIFAR-10 Batch 3:  Training Loss: 0.595964 Validation Accuracy 50.8199989796 %\n",
      "Epoch  7, CIFAR-10 Batch 4:  Training Loss: 0.827147 Validation Accuracy 50.3400027752 %\n",
      "Epoch  7, CIFAR-10 Batch 5:  Training Loss: 0.87509 Validation Accuracy 50.9999990463 %\n",
      "Epoch  8, CIFAR-10 Batch 1:  Training Loss: 1.07925 Validation Accuracy 51.700001955 %\n",
      "Epoch  8, CIFAR-10 Batch 2:  Training Loss: 0.664112 Validation Accuracy 51.3599991798 %\n",
      "Epoch  8, CIFAR-10 Batch 3:  Training Loss: 0.538805 Validation Accuracy 51.700001955 %\n",
      "Epoch  8, CIFAR-10 Batch 4:  Training Loss: 0.755906 Validation Accuracy 51.3599991798 %\n",
      "Epoch  8, CIFAR-10 Batch 5:  Training Loss: 0.773799 Validation Accuracy 52.3599982262 %\n",
      "Epoch  9, CIFAR-10 Batch 1:  Training Loss: 1.00725 Validation Accuracy 52.9399991035 %\n",
      "Epoch  9, CIFAR-10 Batch 2:  Training Loss: 0.5945 Validation Accuracy 52.0200014114 %\n",
      "Epoch  9, CIFAR-10 Batch 3:  Training Loss: 0.493364 Validation Accuracy 52.5200009346 %\n",
      "Epoch  9, CIFAR-10 Batch 4:  Training Loss: 0.699696 Validation Accuracy 52.3999989033 %\n",
      "Epoch  9, CIFAR-10 Batch 5:  Training Loss: 0.696743 Validation Accuracy 52.9600024223 %\n",
      "Epoch 10, CIFAR-10 Batch 1:  Training Loss: 0.938849 Validation Accuracy 53.5199999809 %\n",
      "Epoch 10, CIFAR-10 Batch 2:  Training Loss: 0.532214 Validation Accuracy 52.999997139 %\n",
      "Epoch 10, CIFAR-10 Batch 3:  Training Loss: 0.459531 Validation Accuracy 53.2800018787 %\n",
      "Epoch 10, CIFAR-10 Batch 4:  Training Loss: 0.652166 Validation Accuracy 53.2000005245 %\n",
      "Epoch 10, CIFAR-10 Batch 5:  Training Loss: 0.638213 Validation Accuracy 53.6000013351 %\n",
      "Epoch 11, CIFAR-10 Batch 1:  Training Loss: 0.878813 Validation Accuracy 54.5799970627 %\n",
      "Epoch 11, CIFAR-10 Batch 2:  Training Loss: 0.480049 Validation Accuracy 53.3599972725 %\n",
      "Epoch 11, CIFAR-10 Batch 3:  Training Loss: 0.431626 Validation Accuracy 53.560000658 %\n",
      "Epoch 11, CIFAR-10 Batch 4:  Training Loss: 0.608135 Validation Accuracy 54.1400015354 %\n",
      "Epoch 11, CIFAR-10 Batch 5:  Training Loss: 0.589433 Validation Accuracy 54.5000016689 %\n",
      "Epoch 12, CIFAR-10 Batch 1:  Training Loss: 0.820223 Validation Accuracy 55.5400013924 %\n",
      "Epoch 12, CIFAR-10 Batch 2:  Training Loss: 0.437933 Validation Accuracy 53.7599980831 %\n",
      "Epoch 12, CIFAR-10 Batch 3:  Training Loss: 0.406029 Validation Accuracy 53.8600027561 %\n",
      "Epoch 12, CIFAR-10 Batch 4:  Training Loss: 0.568173 Validation Accuracy 54.6199977398 %\n",
      "Epoch 12, CIFAR-10 Batch 5:  Training Loss: 0.55064 Validation Accuracy 54.9199998379 %\n",
      "Epoch 13, CIFAR-10 Batch 1:  Training Loss: 0.761938 Validation Accuracy 55.8200001717 %\n",
      "Epoch 13, CIFAR-10 Batch 2:  Training Loss: 0.399818 Validation Accuracy 53.820002079 %\n",
      "Epoch 13, CIFAR-10 Batch 3:  Training Loss: 0.384932 Validation Accuracy 54.1999995708 %\n",
      "Epoch 13, CIFAR-10 Batch 4:  Training Loss: 0.530462 Validation Accuracy 55.3799986839 %\n",
      "Epoch 13, CIFAR-10 Batch 5:  Training Loss: 0.518625 Validation Accuracy 55.2600026131 %\n",
      "Epoch 14, CIFAR-10 Batch 1:  Training Loss: 0.707705 Validation Accuracy 56.4599990845 %\n",
      "Epoch 14, CIFAR-10 Batch 2:  Training Loss: 0.36537 Validation Accuracy 54.3399989605 %\n",
      "Epoch 14, CIFAR-10 Batch 3:  Training Loss: 0.369671 Validation Accuracy 54.6599984169 %\n",
      "Epoch 14, CIFAR-10 Batch 4:  Training Loss: 0.496485 Validation Accuracy 55.6400001049 %\n",
      "Epoch 14, CIFAR-10 Batch 5:  Training Loss: 0.487731 Validation Accuracy 55.7399988174 %\n",
      "Epoch 15, CIFAR-10 Batch 1:  Training Loss: 0.664121 Validation Accuracy 56.099998951 %\n",
      "Epoch 15, CIFAR-10 Batch 2:  Training Loss: 0.331306 Validation Accuracy 55.4000020027 %\n",
      "Epoch 15, CIFAR-10 Batch 3:  Training Loss: 0.359135 Validation Accuracy 54.9199998379 %\n",
      "Epoch 15, CIFAR-10 Batch 4:  Training Loss: 0.465468 Validation Accuracy 55.9599995613 %\n",
      "Epoch 15, CIFAR-10 Batch 5:  Training Loss: 0.461155 Validation Accuracy 55.9800028801 %\n",
      "Epoch 16, CIFAR-10 Batch 1:  Training Loss: 0.627364 Validation Accuracy 55.8200001717 %\n",
      "Epoch 16, CIFAR-10 Batch 2:  Training Loss: 0.305216 Validation Accuracy 56.1600029469 %\n",
      "Epoch 16, CIFAR-10 Batch 3:  Training Loss: 0.348187 Validation Accuracy 55.5400013924 %\n",
      "Epoch 16, CIFAR-10 Batch 4:  Training Loss: 0.438321 Validation Accuracy 56.0199975967 %\n",
      "Epoch 16, CIFAR-10 Batch 5:  Training Loss: 0.438376 Validation Accuracy 56.0599982738 %\n",
      "Epoch 17, CIFAR-10 Batch 1:  Training Loss: 0.595077 Validation Accuracy 55.4600000381 %\n",
      "Epoch 17, CIFAR-10 Batch 2:  Training Loss: 0.281715 Validation Accuracy 56.559997797 %\n",
      "Epoch 17, CIFAR-10 Batch 3:  Training Loss: 0.334045 Validation Accuracy 55.2799999714 %\n",
      "Epoch 17, CIFAR-10 Batch 4:  Training Loss: 0.41805 Validation Accuracy 55.940002203 %\n",
      "Epoch 17, CIFAR-10 Batch 5:  Training Loss: 0.41731 Validation Accuracy 56.0400009155 %\n",
      "Epoch 18, CIFAR-10 Batch 1:  Training Loss: 0.559707 Validation Accuracy 55.6400001049 %\n",
      "Epoch 18, CIFAR-10 Batch 2:  Training Loss: 0.260203 Validation Accuracy 56.4199984074 %\n",
      "Epoch 18, CIFAR-10 Batch 3:  Training Loss: 0.320524 Validation Accuracy 55.0199985504 %\n",
      "Epoch 18, CIFAR-10 Batch 4:  Training Loss: 0.401595 Validation Accuracy 55.7799994946 %\n",
      "Epoch 18, CIFAR-10 Batch 5:  Training Loss: 0.394444 Validation Accuracy 55.9800028801 %\n",
      "Epoch 19, CIFAR-10 Batch 1:  Training Loss: 0.523258 Validation Accuracy 55.6400001049 %\n",
      "Epoch 19, CIFAR-10 Batch 2:  Training Loss: 0.241434 Validation Accuracy 56.559997797 %\n",
      "Epoch 19, CIFAR-10 Batch 3:  Training Loss: 0.308329 Validation Accuracy 55.0999999046 %\n",
      "Epoch 19, CIFAR-10 Batch 4:  Training Loss: 0.387709 Validation Accuracy 55.6200027466 %\n",
      "Epoch 19, CIFAR-10 Batch 5:  Training Loss: 0.371388 Validation Accuracy 55.8600008488 %\n",
      "Epoch 20, CIFAR-10 Batch 1:  Training Loss: 0.487693 Validation Accuracy 55.9000015259 %\n",
      "Epoch 20, CIFAR-10 Batch 2:  Training Loss: 0.223726 Validation Accuracy 56.1399996281 %\n",
      "Epoch 20, CIFAR-10 Batch 3:  Training Loss: 0.296124 Validation Accuracy 54.7800004482 %\n",
      "Epoch 20, CIFAR-10 Batch 4:  Training Loss: 0.375716 Validation Accuracy 55.7799994946 %\n",
      "Epoch 20, CIFAR-10 Batch 5:  Training Loss: 0.348333 Validation Accuracy 55.6599974632 %\n"
     ]
    }
   ],
   "source": [
    "\"\"\"\n",
    "DON'T MODIFY ANYTHING IN THIS CELL\n",
    "\"\"\"\n",
    "save_model_path = './image_classification'\n",
    "\n",
    "print('Training...')\n",
    "with tf.Session() as sess:\n",
    "    # Initializing the variables\n",
    "    sess.run(tf.global_variables_initializer())\n",
    "    \n",
    "    # Training cycle\n",
    "    for epoch in range(epochs):\n",
    "        # Loop over all batches\n",
    "        n_batches = 5\n",
    "        for batch_i in range(1, n_batches + 1):\n",
    "            for batch_features, batch_labels in helper.load_preprocess_training_batch(batch_i, batch_size):\n",
    "                train_neural_network(sess, optimizer, keep_probability, batch_features, batch_labels)\n",
    "            print('Epoch {:>2}, CIFAR-10 Batch {}:  '.format(epoch + 1, batch_i), end='')\n",
    "            print_stats(sess, batch_features, batch_labels, cost, accuracy)\n",
    "            \n",
    "    # Save Model\n",
    "    saver = tf.train.Saver()\n",
    "    save_path = saver.save(sess, save_model_path)"
   ]
  },
  {
   "cell_type": "markdown",
   "metadata": {},
   "source": [
    "# Checkpoint\n",
    "The model has been saved to disk.\n",
    "## Test Model\n",
    "Test your model against the test dataset.  This will be your final accuracy. You should have an accuracy greater than 50%. If you don't, keep tweaking the model architecture and parameters."
   ]
  },
  {
   "cell_type": "code",
   "execution_count": 521,
   "metadata": {
    "collapsed": false
   },
   "outputs": [
    {
     "name": "stdout",
     "output_type": "stream",
     "text": [
      "Testing Accuracy: 0.5567642405063291\n",
      "\n"
     ]
    },
    {
     "data": {
      "image/png": "[encoded data removed]",
      "text/plain": [
       "<matplotlib.figure.Figure at 0x11b89de80>"
      ]
     },
     "metadata": {
      "image/png": {
       "height": 319,
       "width": 355
      }
     },
     "output_type": "display_data"
    }
   ],
   "source": [
    "\"\"\"\n",
    "DON'T MODIFY ANYTHING IN THIS CELL\n",
    "\"\"\"\n",
    "%matplotlib inline\n",
    "%config InlineBackend.figure_format = 'retina'\n",
    "\n",
    "import tensorflow as tf\n",
    "import pickle\n",
    "import helper\n",
    "import random\n",
    "\n",
    "# Set batch size if not already set\n",
    "try:\n",
    "    if batch_size:\n",
    "        pass\n",
    "except NameError:\n",
    "    batch_size = 64\n",
    "\n",
    "save_model_path = './image_classification'\n",
    "n_samples = 4\n",
    "top_n_predictions = 3\n",
    "\n",
    "def test_model():\n",
    "    \"\"\"\n",
    "    Test the saved model against the test dataset\n",
    "    \"\"\"\n",
    "\n",
    "    test_features, test_labels = pickle.load(open('preprocess_training.p', mode='rb'))\n",
    "    loaded_graph = tf.Graph()\n",
    "\n",
    "    with tf.Session(graph=loaded_graph) as sess:\n",
    "        # Load model\n",
    "        loader = tf.train.import_meta_graph(save_model_path + '.meta')\n",
    "        loader.restore(sess, save_model_path)\n",
    "\n",
    "        # Get Tensors from loaded model\n",
    "        loaded_x = loaded_graph.get_tensor_by_name('x:0')\n",
    "        loaded_y = loaded_graph.get_tensor_by_name('y:0')\n",
    "        loaded_keep_prob = loaded_graph.get_tensor_by_name('keep_prob:0')\n",
    "        loaded_logits = loaded_graph.get_tensor_by_name('logits:0')\n",
    "        loaded_acc = loaded_graph.get_tensor_by_name('accuracy:0')\n",
    "        \n",
    "        # Get accuracy in batches for memory limitations\n",
    "        test_batch_acc_total = 0\n",
    "        test_batch_count = 0\n",
    "        \n",
    "        for train_feature_batch, train_label_batch in helper.batch_features_labels(test_features, test_labels, batch_size):\n",
    "            test_batch_acc_total += sess.run(\n",
    "                loaded_acc,\n",
    "                feed_dict={loaded_x: train_feature_batch, loaded_y: train_label_batch, loaded_keep_prob: 1.0})\n",
    "            test_batch_count += 1\n",
    "\n",
    "        print('Testing Accuracy: {}\\n'.format(test_batch_acc_total/test_batch_count))\n",
    "\n",
    "        # Print Random Samples\n",
    "        random_test_features, random_test_labels = tuple(zip(*random.sample(list(zip(test_features, test_labels)), n_samples)))\n",
    "        random_test_predictions = sess.run(\n",
    "            tf.nn.top_k(tf.nn.softmax(loaded_logits), top_n_predictions),\n",
    "            feed_dict={loaded_x: random_test_features, loaded_y: random_test_labels, loaded_keep_prob: 1.0})\n",
    "        helper.display_image_predictions(random_test_features, random_test_labels, random_test_predictions)\n",
    "\n",
    "\n",
    "test_model()"
   ]
  },
  {
   "cell_type": "markdown",
   "metadata": {},
   "source": [
    "## Why 50-70% Accuracy?\n",
    "You might be wondering why you can't get an accuracy any higher. First things first, 50% isn't bad for a simple CNN.  Pure guessing would get you 10% accuracy. However, you might notice people are getting scores [well above 70%](http://rodrigob.github.io/are_we_there_yet/build/classification_datasets_results.html#43494641522d3130).  That's because we haven't taught you all there is to know about neural networks. We still need to cover a few more techniques.\n",
    "## Submitting This Project\n",
    "When submitting this project, make sure to run all the cells before saving the notebook.  Save the notebook file as \"dlnd_image_classification.ipynb\" and save it as a HTML file under \"File\" -> \"Download as\".  Include the \"helper.py\" and \"problem_unittests.py\" files in your submission."
   ]
  },
  {
   "cell_type": "code",
   "execution_count": null,
   "metadata": {
    "collapsed": true
   },
   "outputs": [],
   "source": []
  }
 ],
 "metadata": {
  "kernelspec": {
   "display_name": "Python 3",
   "language": "python",
   "name": "python3"
  },
  "language_info": {
   "codemirror_mode": {
    "name": "ipython",
    "version": 3
   },
   "file_extension": ".py",
   "mimetype": "text/x-python",
   "name": "python",
   "nbconvert_exporter": "python",
   "pygments_lexer": "ipython3",
   "version": "3.5.3"
  }
 },
 "nbformat": 4,
 "nbformat_minor": 0
}
