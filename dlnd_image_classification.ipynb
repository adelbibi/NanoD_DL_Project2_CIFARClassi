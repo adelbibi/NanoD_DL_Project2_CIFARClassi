{
 "cells": [
  {
   "cell_type": "markdown",
   "metadata": {
    "collapsed": true
   },
   "source": [
    "# Image Classification\n",
    "In this project, you'll classify images from the [CIFAR-10 dataset](https://www.cs.toronto.edu/~kriz/cifar.html).  The dataset consists of airplanes, dogs, cats, and other objects. You'll preprocess the images, then train a convolutional neural network on all the samples. The images need to be normalized and the labels need to be one-hot encoded.  You'll get to apply what you learned and build a convolutional, max pooling, dropout, and fully connected layers.  At the end, you'll get to see your neural network's predictions on the sample images.\n",
    "## Get the Data\n",
    "Run the following cell to download the [CIFAR-10 dataset for python](https://www.cs.toronto.edu/~kriz/cifar-10-python.tar.gz)."
   ]
  },
  {
   "cell_type": "code",
   "execution_count": 1,
   "metadata": {
    "collapsed": false
   },
   "outputs": [
    {
     "name": "stderr",
     "output_type": "stream",
     "text": [
      "CIFAR-10 Dataset: 171MB [06:51, 415KB/s]                               \n"
     ]
    },
    {
     "name": "stdout",
     "output_type": "stream",
     "text": [
      "All files found!\n"
     ]
    }
   ],
   "source": [
    "\"\"\"\n",
    "DON'T MODIFY ANYTHING IN THIS CELL THAT IS BELOW THIS LINE\n",
    "\"\"\"\n",
    "from urllib.request import urlretrieve\n",
    "from os.path import isfile, isdir\n",
    "from tqdm import tqdm\n",
    "import problem_unittests as tests\n",
    "import tarfile\n",
    "\n",
    "cifar10_dataset_folder_path = 'cifar-10-batches-py'\n",
    "\n",
    "class DLProgress(tqdm):\n",
    "    last_block = 0\n",
    "\n",
    "    def hook(self, block_num=1, block_size=1, total_size=None):\n",
    "        self.total = total_size\n",
    "        self.update((block_num - self.last_block) * block_size)\n",
    "        self.last_block = block_num\n",
    "\n",
    "if not isfile('cifar-10-python.tar.gz'):\n",
    "    with DLProgress(unit='B', unit_scale=True, miniters=1, desc='CIFAR-10 Dataset') as pbar:\n",
    "        urlretrieve(\n",
    "            'https://www.cs.toronto.edu/~kriz/cifar-10-python.tar.gz',\n",
    "            'cifar-10-python.tar.gz',\n",
    "            pbar.hook)\n",
    "\n",
    "if not isdir(cifar10_dataset_folder_path):\n",
    "    with tarfile.open('cifar-10-python.tar.gz') as tar:\n",
    "        tar.extractall()\n",
    "        tar.close()\n",
    "\n",
    "\n",
    "tests.test_folder_path(cifar10_dataset_folder_path)"
   ]
  },
  {
   "cell_type": "markdown",
   "metadata": {},
   "source": [
    "## Explore the Data\n",
    "The dataset is broken into batches to prevent your machine from running out of memory.  The CIFAR-10 dataset consists of 5 batches, named `data_batch_1`, `data_batch_2`, etc.. Each batch contains the labels and images that are one of the following:\n",
    "* airplane\n",
    "* automobile\n",
    "* bird\n",
    "* cat\n",
    "* deer\n",
    "* dog\n",
    "* frog\n",
    "* horse\n",
    "* ship\n",
    "* truck\n",
    "\n",
    "Understanding a dataset is part of making predictions on the data.  Play around with the code cell below by changing the `batch_id` and `sample_id`. The `batch_id` is the id for a batch (1-5). The `sample_id` is the id for a image and label pair in the batch.\n",
    "\n",
    "Ask yourself \"What are all possible labels?\", \"What is the range of values for the image data?\", \"Are the labels in order or random?\".  Answers to questions like these will help you preprocess the data and end up with better predictions."
   ]
  },
  {
   "cell_type": "code",
   "execution_count": 13,
   "metadata": {
    "collapsed": false
   },
   "outputs": [
    {
     "name": "stdout",
     "output_type": "stream",
     "text": [
      "\n",
      "Stats of batch 3:\n",
      "Samples: 10000\n",
      "Label Counts: {0: 994, 1: 1042, 2: 965, 3: 997, 4: 990, 5: 1029, 6: 978, 7: 1015, 8: 961, 9: 1029}\n",
      "First 20 Labels: [8, 5, 0, 6, 9, 2, 8, 3, 6, 2, 7, 4, 6, 9, 0, 0, 7, 3, 7, 2]\n",
      "\n",
      "Example of Image 4:\n",
      "Image - Min Value: 10 Max Value: 255\n",
      "Image - Shape: (32, 32, 3)\n",
      "Label - Label Id: 9 Name: truck\n"
     ]
    },
    {
     "data": {
      "image/png": "[encoded data removed]",
      "text/plain": [
       "<matplotlib.figure.Figure at 0x11b970438>"
      ]
     },
     "metadata": {
      "image/png": {
       "height": 250,
       "width": 253
      }
     },
     "output_type": "display_data"
    }
   ],
   "source": [
    "%matplotlib inline\n",
    "%config InlineBackend.figure_format = 'retina'\n",
    "\n",
    "import helper\n",
    "import numpy as np\n",
    "\n",
    "# Explore the dataset\n",
    "batch_id = 3\n",
    "sample_id = 4\n",
    "helper.display_stats(cifar10_dataset_folder_path, batch_id, sample_id)"
   ]
  },
  {
   "cell_type": "markdown",
   "metadata": {},
   "source": [
    "## Implement Preprocess Functions\n",
    "### Normalize\n",
    "In the cell below, implement the `normalize` function to take in image data, `x`, and return it as a normalized Numpy array. The values should be in the range of 0 to 1, inclusive.  The return object should be the same shape as `x`."
   ]
  },
  {
   "cell_type": "code",
   "execution_count": 27,
   "metadata": {
    "collapsed": false
   },
   "outputs": [
    {
     "name": "stdout",
     "output_type": "stream",
     "text": [
      "Tests Passed\n"
     ]
    }
   ],
   "source": [
    "def normalize(x):\n",
    "    \"\"\"\n",
    "    Normalize a list of sample image data in the range of 0 to 1\n",
    "    : x: List of image data.  The image shape is (32, 32, 3)\n",
    "    : return: Numpy array of normalize data\n",
    "    \"\"\"\n",
    "    # TODO: Implement Function\n",
    "    x_size = x.shape\n",
    "    x_normalized = np.zeros(x_size)\n",
    "    for image in range(x_size[0]):\n",
    "        x_normalized[image,:,:,:] = (x[image,:,:,:] - np.amin(x[image,:,:,:])) / (np.amax(x[image,:,:,:]) - np.amin(x[image,:,:,:]))\n",
    "    return x_normalized\n",
    "\n",
    "\n",
    "\"\"\"\n",
    "DON'T MODIFY ANYTHING IN THIS CELL THAT IS BELOW THIS LINE\n",
    "\"\"\"\n",
    "tests.test_normalize(normalize)"
   ]
  },
  {
   "cell_type": "markdown",
   "metadata": {},
   "source": [
    "### One-hot encode\n",
    "Just like the previous code cell, you'll be implementing a function for preprocessing.  This time, you'll implement the `one_hot_encode` function. The input, `x`, are a list of labels.  Implement the function to return the list of labels as One-Hot encoded Numpy array.  The possible values for labels are 0 to 9. The one-hot encoding function should return the same encoding for each value between each call to `one_hot_encode`.  Make sure to save the map of encodings outside the function.\n",
    "\n",
    "Hint: Don't reinvent the wheel."
   ]
  },
  {
   "cell_type": "code",
   "execution_count": 152,
   "metadata": {
    "collapsed": false
   },
   "outputs": [
    {
     "name": "stdout",
     "output_type": "stream",
     "text": [
      "Tests Passed\n"
     ]
    }
   ],
   "source": [
    "def one_hot_encode(x):\n",
    "    \"\"\"\n",
    "    One hot encode a list of sample labels. Return a one-hot encoded vector for each label.\n",
    "    : x: List of sample Labels\n",
    "    : return: Numpy array of one-hot encoded labels\n",
    "    \"\"\"\n",
    "    # TODO: Implement Function\n",
    "    labels_encoded = np.zeros((len(x),10))\n",
    "    for index,label in enumerate(x):\n",
    "        labels_encoded[index,label] = 1\n",
    "    return labels_encoded\n",
    "\n",
    "\"\"\"\n",
    "DON'T MODIFY ANYTHING IN THIS CELL THAT IS BELOW THIS LINE\n",
    "\"\"\"\n",
    "tests.test_one_hot_encode(one_hot_encode)"
   ]
  },
  {
   "cell_type": "markdown",
   "metadata": {},
   "source": [
    "### Randomize Data\n",
    "As you saw from exploring the data above, the order of the samples are randomized.  It doesn't hurt to randomize it again, but you don't need to for this dataset."
   ]
  },
  {
   "cell_type": "markdown",
   "metadata": {},
   "source": [
    "## Preprocess all the data and save it\n",
    "Running the code cell below will preprocess all the CIFAR-10 data and save it to file. The code below also uses 10% of the training data for validation."
   ]
  },
  {
   "cell_type": "code",
   "execution_count": 153,
   "metadata": {
    "collapsed": false
   },
   "outputs": [],
   "source": [
    "\"\"\"\n",
    "DON'T MODIFY ANYTHING IN THIS CELL\n",
    "\"\"\"\n",
    "# Preprocess Training, Validation, and Testing Data\n",
    "helper.preprocess_and_save_data(cifar10_dataset_folder_path, normalize, one_hot_encode)"
   ]
  },
  {
   "cell_type": "markdown",
   "metadata": {},
   "source": [
    "# Check Point\n",
    "This is your first checkpoint.  If you ever decide to come back to this notebook or have to restart the notebook, you can start from here.  The preprocessed data has been saved to disk."
   ]
  },
  {
   "cell_type": "code",
   "execution_count": 584,
   "metadata": {
    "collapsed": true
   },
   "outputs": [],
   "source": [
    "\"\"\"\n",
    "DON'T MODIFY ANYTHING IN THIS CELL\n",
    "\"\"\"\n",
    "import pickle\n",
    "import problem_unittests as tests\n",
    "import helper\n",
    "\n",
    "# Load the Preprocessed Validation data\n",
    "valid_features, valid_labels = pickle.load(open('preprocess_validation.p', mode='rb'))"
   ]
  },
  {
   "cell_type": "markdown",
   "metadata": {},
   "source": [
    "## Build the network\n",
    "For the neural network, you'll build each layer into a function.  Most of the code you've seen has been outside of functions. To test your code more thoroughly, we require that you put each layer in a function.  This allows us to give you better feedback and test for simple mistakes using our unittests before you submit your project.\n",
    "\n",
    ">**Note:** If you're finding it hard to dedicate enough time for this course each week, we've provided a small shortcut to this part of the project. In the next couple of problems, you'll have the option to use classes from the [TensorFlow Layers](https://www.tensorflow.org/api_docs/python/tf/layers) or [TensorFlow Layers (contrib)](https://www.tensorflow.org/api_guides/python/contrib.layers) packages to build each layer, except the layers you build in the \"Convolutional and Max Pooling Layer\" section.  TF Layers is similar to Keras's and TFLearn's abstraction to layers, so it's easy to pickup.\n",
    "\n",
    ">However, if you would like to get the most out of this course, try to solve all the problems _without_ using anything from the TF Layers packages. You **can** still use classes from other packages that happen to have the same name as ones you find in TF Layers! For example, instead of using the TF Layers version of the `conv2d` class, [tf.layers.conv2d](https://www.tensorflow.org/api_docs/python/tf/layers/conv2d), you would want to use the TF Neural Network version of `conv2d`, [tf.nn.conv2d](https://www.tensorflow.org/api_docs/python/tf/nn/conv2d). \n",
    "\n",
    "Let's begin!\n",
    "\n",
    "### Input\n",
    "The neural network needs to read the image data, one-hot encoded labels, and dropout keep probability. Implement the following functions\n",
    "* Implement `neural_net_image_input`\n",
    " * Return a [TF Placeholder](https://www.tensorflow.org/api_docs/python/tf/placeholder)\n",
    " * Set the shape using `image_shape` with batch size set to `None`.\n",
    " * Name the TensorFlow placeholder \"x\" using the TensorFlow `name` parameter in the [TF Placeholder](https://www.tensorflow.org/api_docs/python/tf/placeholder).\n",
    "* Implement `neural_net_label_input`\n",
    " * Return a [TF Placeholder](https://www.tensorflow.org/api_docs/python/tf/placeholder)\n",
    " * Set the shape using `n_classes` with batch size set to `None`.\n",
    " * Name the TensorFlow placeholder \"y\" using the TensorFlow `name` parameter in the [TF Placeholder](https://www.tensorflow.org/api_docs/python/tf/placeholder).\n",
    "* Implement `neural_net_keep_prob_input`\n",
    " * Return a [TF Placeholder](https://www.tensorflow.org/api_docs/python/tf/placeholder) for dropout keep probability.\n",
    " * Name the TensorFlow placeholder \"keep_prob\" using the TensorFlow `name` parameter in the [TF Placeholder](https://www.tensorflow.org/api_docs/python/tf/placeholder).\n",
    "\n",
    "These names will be used at the end of the project to load your saved model.\n",
    "\n",
    "Note: `None` for shapes in TensorFlow allow for a dynamic size."
   ]
  },
  {
   "cell_type": "code",
   "execution_count": 585,
   "metadata": {
    "collapsed": false
   },
   "outputs": [
    {
     "name": "stdout",
     "output_type": "stream",
     "text": [
      "Image Input Tests Passed.\n",
      "Label Input Tests Passed.\n",
      "Keep Prob Tests Passed.\n"
     ]
    }
   ],
   "source": [
    "import tensorflow as tf\n",
    "\n",
    "def neural_net_image_input(image_shape):\n",
    "    \"\"\"\n",
    "    Return a Tensor for a bach of image input\n",
    "    : image_shape: Shape of the images\n",
    "    : return: Tensor for image input.\n",
    "    \"\"\"\n",
    "    # TODO: Implement Function\n",
    "    input_data = tf.placeholder(tf.float32,[None, image_shape[0], image_shape[1], image_shape[2]], name ='x')\n",
    "    return input_data\n",
    "\n",
    "\n",
    "def neural_net_label_input(n_classes):\n",
    "    \"\"\"\n",
    "    Return a Tensor for a batch of label input\n",
    "    : n_classes: Number of classes\n",
    "    : return: Tensor for label input.\n",
    "    \"\"\"\n",
    "    # TODO: Implement Function\n",
    "    label_data = tf.placeholder(tf.float32,[None, n_classes], name ='y')\n",
    "    return label_data\n",
    "\n",
    "\n",
    "def neural_net_keep_prob_input():\n",
    "    \"\"\"\n",
    "    Return a Tensor for keep probability\n",
    "    : return: Tensor for keep probability.\n",
    "    \"\"\"\n",
    "    # TODO: Implement Function\n",
    "    drop_keep_per = tf.placeholder(tf.float32,name='keep_prob')\n",
    "    return drop_keep_per\n",
    "\n",
    "\n",
    "\"\"\"\n",
    "DON'T MODIFY ANYTHING IN THIS CELL THAT IS BELOW THIS LINE\n",
    "\"\"\"\n",
    "tf.reset_default_graph()\n",
    "tests.test_nn_image_inputs(neural_net_image_input)\n",
    "tests.test_nn_label_inputs(neural_net_label_input)\n",
    "tests.test_nn_keep_prob_inputs(neural_net_keep_prob_input)"
   ]
  },
  {
   "cell_type": "markdown",
   "metadata": {},
   "source": [
    "### Convolution and Max Pooling Layer\n",
    "Convolution layers have a lot of success with images. For this code cell, you should implement the function `conv2d_maxpool` to apply convolution then max pooling:\n",
    "* Create the weight and bias using `conv_ksize`, `conv_num_outputs` and the shape of `x_tensor`.\n",
    "* Apply a convolution to `x_tensor` using weight and `conv_strides`.\n",
    " * We recommend you use same padding, but you're welcome to use any padding.\n",
    "* Add bias\n",
    "* Add a nonlinear activation to the convolution.\n",
    "* Apply Max Pooling using `pool_ksize` and `pool_strides`.\n",
    " * We recommend you use same padding, but you're welcome to use any padding.\n",
    "\n",
    "**Note:** You **can't** use [TensorFlow Layers](https://www.tensorflow.org/api_docs/python/tf/layers) or [TensorFlow Layers (contrib)](https://www.tensorflow.org/api_guides/python/contrib.layers) for **this** layer, but you can still use TensorFlow's [Neural Network](https://www.tensorflow.org/api_docs/python/tf/nn) package. You may still use the shortcut option for all the **other** layers."
   ]
  },
  {
   "cell_type": "code",
   "execution_count": 586,
   "metadata": {
    "collapsed": false,
    "scrolled": false
   },
   "outputs": [
    {
     "name": "stdout",
     "output_type": "stream",
     "text": [
      "Tests Passed\n"
     ]
    }
   ],
   "source": [
    "def conv2d_maxpool(x_tensor, conv_num_outputs, conv_ksize, conv_strides, pool_ksize, pool_strides):\n",
    "    \"\"\"\n",
    "    Apply convolution then max pooling to x_tensor\n",
    "    :param x_tensor: TensorFlow Tensor\n",
    "    :param conv_num_outputs: Number of outputs for the convolutional layer\n",
    "    :param conv_ksize: kernal size 2-D Tuple for the convolutional layer\n",
    "    :param conv_strides: Stride 2-D Tuple for convolution\n",
    "    :param pool_ksize: kernal size 2-D Tuple for pool\n",
    "    :param pool_strides: Stride 2-D Tuple for pool\n",
    "    : return: A tensor that represents convolution and max pooling of x_tensor\n",
    "    \"\"\"\n",
    "    # TODO: Implement Function\n",
    "    input_size = x_tensor.get_shape().as_list()\n",
    "    height_input = input_size[1]\n",
    "    width_input  = input_size[2]\n",
    "    num_channels = input_size[3]\n",
    "    \n",
    "    filter_size_height = conv_ksize[0]\n",
    "    filter_size_width = conv_ksize[1]\n",
    "    \n",
    "    weight = tf.Variable(tf.truncated_normal([filter_size_height,filter_size_width,num_channels,conv_num_outputs]))\n",
    "    bias = tf.Variable(tf.zeros(conv_num_outputs))\n",
    "    \n",
    "    #applying the convolution\n",
    "    conv_layer = tf.nn.conv2d(x_tensor,weight,[1,conv_strides[0],conv_strides[1],1],padding = 'SAME')\n",
    "    conv_layer = tf.nn.bias_add(conv_layer, bias)\n",
    "    conv_layer = tf.nn.relu(conv_layer)\n",
    "    conv_layer = tf.nn.max_pool(conv_layer,[1,pool_ksize[0],pool_ksize[1],1],[1,pool_strides[0],pool_strides[1],1],padding='SAME')\n",
    "    return conv_layer \n",
    "\n",
    "\n",
    "\"\"\"\n",
    "DON'T MODIFY ANYTHING IN THIS CELL THAT IS BELOW THIS LINE\n",
    "\"\"\"\n",
    "tests.test_con_pool(conv2d_maxpool)"
   ]
  },
  {
   "cell_type": "markdown",
   "metadata": {},
   "source": [
    "### Flatten Layer\n",
    "Implement the `flatten` function to change the dimension of `x_tensor` from a 4-D tensor to a 2-D tensor.  The output should be the shape (*Batch Size*, *Flattened Image Size*). Shortcut option: you can use classes from the [TensorFlow Layers](https://www.tensorflow.org/api_docs/python/tf/layers) or [TensorFlow Layers (contrib)](https://www.tensorflow.org/api_guides/python/contrib.layers) packages for this layer. For more of a challenge, only use other TensorFlow packages."
   ]
  },
  {
   "cell_type": "code",
   "execution_count": 587,
   "metadata": {
    "collapsed": false
   },
   "outputs": [
    {
     "name": "stdout",
     "output_type": "stream",
     "text": [
      "Tests Passed\n"
     ]
    }
   ],
   "source": [
    "def flatten(x_tensor):\n",
    "    \"\"\"\n",
    "    Flatten x_tensor to (Batch Size, Flattened Image Size)\n",
    "    : x_tensor: A tensor of size (Batch Size, ...), where ... are the image dimensions.\n",
    "    : return: A tensor of size (Batch Size, Flattened Image Size).\n",
    "    \"\"\"\n",
    "    # TODO: Implement Function\n",
    "    return tf.contrib.layers.flatten(x_tensor)\n",
    "\n",
    "\n",
    "\"\"\"\n",
    "DON'T MODIFY ANYTHING IN THIS CELL THAT IS BELOW THIS LINE\n",
    "\"\"\"\n",
    "tests.test_flatten(flatten)"
   ]
  },
  {
   "cell_type": "markdown",
   "metadata": {},
   "source": [
    "### Fully-Connected Layer\n",
    "Implement the `fully_conn` function to apply a fully connected layer to `x_tensor` with the shape (*Batch Size*, *num_outputs*). Shortcut option: you can use classes from the [TensorFlow Layers](https://www.tensorflow.org/api_docs/python/tf/layers) or [TensorFlow Layers (contrib)](https://www.tensorflow.org/api_guides/python/contrib.layers) packages for this layer. For more of a challenge, only use other TensorFlow packages."
   ]
  },
  {
   "cell_type": "code",
   "execution_count": 621,
   "metadata": {
    "collapsed": false
   },
   "outputs": [
    {
     "name": "stdout",
     "output_type": "stream",
     "text": [
      "Tests Passed\n"
     ]
    }
   ],
   "source": [
    "def fully_conn(x_tensor, num_outputs):\n",
    "    \"\"\"\n",
    "    Apply a fully connected layer to x_tensor using weight and bias\n",
    "    : x_tensor: A 2-D tensor where the first dimension is batch size.\n",
    "    : num_outputs: The number of output that the new tensor should be.\n",
    "    : return: A 2-D tensor where the second dimension is num_outputs.\n",
    "    \"\"\"\n",
    "    # TODO: Implement Function \n",
    "    datasize = x_tensor.get_shape().as_list()[1]\n",
    "    weight = tf.Variable(tf.truncated_normal([datasize, num_outputs],mean=0.0, stddev=1))\n",
    "    bias = tf.Variable(tf.zeros(num_outputs))\n",
    "    out = tf.add(tf.matmul(x_tensor, weight), bias)\n",
    "    out_relu = tf.nn.relu(out)\n",
    "    #tf.contrib.layers.fully_connected(x_tensor,num_outputs)\n",
    "    return out_relu\n",
    "\n",
    "\n",
    "\"\"\"\n",
    "DON'T MODIFY ANYTHING IN THIS CELL THAT IS BELOW THIS LINE\n",
    "\"\"\"\n",
    "tests.test_fully_conn(fully_conn)"
   ]
  },
  {
   "cell_type": "markdown",
   "metadata": {},
   "source": [
    "### Output Layer\n",
    "Implement the `output` function to apply a fully connected layer to `x_tensor` with the shape (*Batch Size*, *num_outputs*). Shortcut option: you can use classes from the [TensorFlow Layers](https://www.tensorflow.org/api_docs/python/tf/layers) or [TensorFlow Layers (contrib)](https://www.tensorflow.org/api_guides/python/contrib.layers) packages for this layer. For more of a challenge, only use other TensorFlow packages.\n",
    "\n",
    "**Note:** Activation, softmax, or cross entropy should **not** be applied to this."
   ]
  },
  {
   "cell_type": "code",
   "execution_count": 622,
   "metadata": {
    "collapsed": false
   },
   "outputs": [
    {
     "name": "stdout",
     "output_type": "stream",
     "text": [
      "Tests Passed\n"
     ]
    }
   ],
   "source": [
    "def output(x_tensor, num_outputs):\n",
    "    \"\"\"\n",
    "    Apply a output layer to x_tensor using weight and bias\n",
    "    : x_tensor: A 2-D tensor where the first dimension is batch size.\n",
    "    : num_outputs: The number of output that the new tensor should be.\n",
    "    : return: A 2-D tensor where the second dimension is num_outputs.\n",
    "    \"\"\"\n",
    "    # TODO: Implement Function\n",
    "    return tf.contrib.layers.fully_connected(x_tensor,num_outputs,activation_fn=None)\n",
    "\n",
    "\n",
    "\"\"\"\n",
    "DON'T MODIFY ANYTHING IN THIS CELL THAT IS BELOW THIS LINE\n",
    "\"\"\"\n",
    "tests.test_output(output)"
   ]
  },
  {
   "cell_type": "markdown",
   "metadata": {},
   "source": [
    "### Create Convolutional Model\n",
    "Implement the function `conv_net` to create a convolutional neural network model. The function takes in a batch of images, `x`, and outputs logits.  Use the layers you created above to create this model:\n",
    "\n",
    "* Apply 1, 2, or 3 Convolution and Max Pool layers\n",
    "* Apply a Flatten Layer\n",
    "* Apply 1, 2, or 3 Fully Connected Layers\n",
    "* Apply an Output Layer\n",
    "* Return the output\n",
    "* Apply [TensorFlow's Dropout](https://www.tensorflow.org/api_docs/python/tf/nn/dropout) to one or more layers in the model using `keep_prob`. "
   ]
  },
  {
   "cell_type": "code",
   "execution_count": 639,
   "metadata": {
    "collapsed": false
   },
   "outputs": [
    {
     "name": "stdout",
     "output_type": "stream",
     "text": [
      "Neural Network Built!\n"
     ]
    }
   ],
   "source": [
    "def conv_net(x, keep_prob):\n",
    "    \"\"\"\n",
    "    Create a convolutional neural network model\n",
    "    : x: Placeholder tensor that holds image data.\n",
    "    : keep_prob: Placeholder tensor that hold dropout keep probability.\n",
    "    : return: Tensor that represents logits\n",
    "    \"\"\"\n",
    "    # TODO: Apply 1, 2, or 3 Convolution and Max Pool layers\n",
    "    #    Play around with different number of outputs, kernel size and stride\n",
    "    # Function Definition from Above:\n",
    "    #    conv2d_maxpool(x_tensor, conv_num_outputs, conv_ksize, conv_strides, pool_ksize, pool_strides)\n",
    "    conv_layer = conv2d_maxpool(x, 5,  [2,2], [1,1], [2,2], [1,1])\n",
    "    conv_layer = conv2d_maxpool(x, 20,  [4,4], [1,1], [2,2], [1,1])\n",
    "    conv_layer = conv2d_maxpool(x, 50,  [4,4], [1,1], [2,2], [1,1])\n",
    "\n",
    "\n",
    "\n",
    "\n",
    "    # TODO: Apply a Flatten Layer\n",
    "    # Function Definition from Above:\n",
    "    #   flatten(x_tensor)\n",
    "    conv_flattened = flatten(conv_layer)\n",
    "\n",
    "    # TODO: Apply 1, 2, or 3 Fully Connected Layers\n",
    "    #    Play around with different number of outputs\n",
    "    # Function Definition from Above:\n",
    "    #   fully_conn(x_tensor, num_outputs)\n",
    "    full_connected_layer = fully_conn(conv_flattened, 132)\n",
    "    full_connected_layer_dropped = tf.nn.dropout(full_connected_layer,keep_prob)\n",
    "    # TODO: Apply an Output Layer\n",
    "    #    Set this to the number of classes\n",
    "    # Function Definition from Above:\n",
    "    #   output(x_tensor, num_outputs)\n",
    "    logits = output(full_connected_layer, 10)\n",
    "    \n",
    "    # TODO: return output\n",
    "    return logits\n",
    "\n",
    "\n",
    "\"\"\"\n",
    "DON'T MODIFY ANYTHING IN THIS CELL THAT IS BELOW THIS LINE\n",
    "\"\"\"\n",
    "\n",
    "##############################\n",
    "## Build the Neural Network ##\n",
    "##############################\n",
    "\n",
    "# Remove previous weights, bias, inputs, etc..\n",
    "tf.reset_default_graph()\n",
    "\n",
    "# Inputs\n",
    "x = neural_net_image_input((32, 32, 3))\n",
    "y = neural_net_label_input(10)\n",
    "keep_prob = neural_net_keep_prob_input()\n",
    "# Model\n",
    "logits = conv_net(x, keep_prob)\n",
    "\n",
    "# Name logits Tensor, so that is can be loaded from disk after training\n",
    "logits = tf.identity(logits, name='logits')\n",
    "\n",
    "# Loss and Optimizer\n",
    "cost = tf.reduce_mean(tf.nn.softmax_cross_entropy_with_logits(logits=logits, labels=y))\n",
    "optimizer = tf.train.AdamOptimizer().minimize(cost)\n",
    "\n",
    "# Accuracy\n",
    "correct_pred = tf.equal(tf.argmax(logits, 1), tf.argmax(y, 1))\n",
    "accuracy = tf.reduce_mean(tf.cast(correct_pred, tf.float32), name='accuracy')\n",
    "\n",
    "tests.test_conv_net(conv_net)"
   ]
  },
  {
   "cell_type": "markdown",
   "metadata": {},
   "source": [
    "## Train the Neural Network\n",
    "### Single Optimization\n",
    "Implement the function `train_neural_network` to do a single optimization.  The optimization should use `optimizer` to optimize in `session` with a `feed_dict` of the following:\n",
    "* `x` for image input\n",
    "* `y` for labels\n",
    "* `keep_prob` for keep probability for dropout\n",
    "\n",
    "This function will be called for each batch, so `tf.global_variables_initializer()` has already been called.\n",
    "\n",
    "Note: Nothing needs to be returned. This function is only optimizing the neural network."
   ]
  },
  {
   "cell_type": "code",
   "execution_count": 640,
   "metadata": {
    "collapsed": false
   },
   "outputs": [
    {
     "name": "stdout",
     "output_type": "stream",
     "text": [
      "Tests Passed\n"
     ]
    }
   ],
   "source": [
    "def train_neural_network(session, optimizer, keep_probability, feature_batch, label_batch):\n",
    "    \"\"\"\n",
    "    Optimize the session on a batch of images and labels\n",
    "    : session: Current TensorFlow session\n",
    "    : optimizer: TensorFlow optimizer function\n",
    "    : keep_probability: keep probability\n",
    "    : feature_batch: Batch of Numpy image data\n",
    "    : label_batch: Batch of Numpy label data\n",
    "    \"\"\"\n",
    "    # TODO: Implement Function\n",
    "    session.run(optimizer,feed_dict={x: feature_batch, y: label_batch, keep_prob: keep_probability})\n",
    "    pass\n",
    "  \n",
    "\n",
    "\n",
    "\"\"\"\n",
    "DON'T MODIFY ANYTHING IN THIS CELL THAT IS BELOW THIS LINE\n",
    "\"\"\"\n",
    "tests.test_train_nn(train_neural_network)"
   ]
  },
  {
   "cell_type": "markdown",
   "metadata": {},
   "source": [
    "### Show Stats\n",
    "Implement the function `print_stats` to print loss and validation accuracy.  Use the global variables `valid_features` and `valid_labels` to calculate validation accuracy.  Use a keep probability of `1.0` to calculate the loss and validation accuracy."
   ]
  },
  {
   "cell_type": "code",
   "execution_count": 641,
   "metadata": {
    "collapsed": false
   },
   "outputs": [],
   "source": [
    "def print_stats(session, feature_batch, label_batch, cost, accuracy):\n",
    "    \"\"\"\n",
    "    Print information about loss and validation accuracy\n",
    "    : session: Current TensorFlow session\n",
    "    : feature_batch: Batch of Numpy image data\n",
    "    : label_batch: Batch of Numpy label data\n",
    "    : cost: TensorFlow cost function\n",
    "    : accuracy: TensorFlow accuracy function\n",
    "    \"\"\"\n",
    "    # TODO: Implement Function\n",
    "    loss           = session.run(cost,     feed_dict={x: feature_batch, y: label_batch, keep_prob: 1.})\n",
    "    trainning_acc  = session.run(accuracy, feed_dict={x: feature_batch, y: label_batch,keep_prob: 1.})\n",
    "    validation_acc = session.run(accuracy, feed_dict={x: valid_features,y: valid_labels,keep_prob: 1.})\n",
    "    print('Training Loss:', \"%.4f\" % loss, 'Trainning Accuracy:', \"%2.4f\" % (trainning_acc*100), '%','Validation Accuracy: ',\"%2.4f\" % (validation_acc*100),'%')\n",
    "    pass"
   ]
  },
  {
   "cell_type": "markdown",
   "metadata": {},
   "source": [
    "### Hyperparameters\n",
    "Tune the following parameters:\n",
    "* Set `epochs` to the number of iterations until the network stops learning or start overfitting\n",
    "* Set `batch_size` to the highest number that your machine has memory for.  Most people set them to common sizes of memory:\n",
    " * 64\n",
    " * 128\n",
    " * 256\n",
    " * ...\n",
    "* Set `keep_probability` to the probability of keeping a node using dropout"
   ]
  },
  {
   "cell_type": "code",
   "execution_count": 642,
   "metadata": {
    "collapsed": true
   },
   "outputs": [],
   "source": [
    "# TODO: Tune Parameters\n",
    "epochs = 20\n",
    "batch_size = 128\n",
    "keep_probability = 0.5"
   ]
  },
  {
   "cell_type": "markdown",
   "metadata": {},
   "source": [
    "### Train on a Single CIFAR-10 Batch\n",
    "Instead of training the neural network on all the CIFAR-10 batches of data, let's use a single batch. This should save time while you iterate on the model to get a better accuracy.  Once the final validation accuracy is 50% or greater, run the model on all the data in the next section."
   ]
  },
  {
   "cell_type": "code",
   "execution_count": 645,
   "metadata": {
    "collapsed": false
   },
   "outputs": [
    {
     "name": "stdout",
     "output_type": "stream",
     "text": [
      "Checking the Training on a Single Batch...\n",
      "Epoch  1, CIFAR-10 Batch 1:  Training Loss: 131.2220 Trainning Accuracy: 15.0000 % Validation Accuracy:  21.2400 %\n",
      "Epoch  2, CIFAR-10 Batch 1:  Training Loss: 87.0806 Trainning Accuracy: 7.5000 % Validation Accuracy:  25.3800 %\n",
      "Epoch  3, CIFAR-10 Batch 1:  Training Loss: 55.0079 Trainning Accuracy: 12.5000 % Validation Accuracy:  27.2200 %\n",
      "Epoch  4, CIFAR-10 Batch 1:  Training Loss: 42.7912 Trainning Accuracy: 27.5000 % Validation Accuracy:  28.0400 %\n",
      "Epoch  5, CIFAR-10 Batch 1:  Training Loss: 29.3142 Trainning Accuracy: 30.0000 % Validation Accuracy:  29.8800 %\n",
      "Epoch  6, CIFAR-10 Batch 1:  Training Loss: 23.3145 Trainning Accuracy: 30.0000 % Validation Accuracy:  30.1800 %\n",
      "Epoch  7, CIFAR-10 Batch 1:  Training Loss: 17.5748 Trainning Accuracy: 42.5000 % Validation Accuracy:  31.0400 %\n",
      "Epoch  8, CIFAR-10 Batch 1:  Training Loss: 14.5814 Trainning Accuracy: 45.0000 % Validation Accuracy:  31.4200 %\n",
      "Epoch  9, CIFAR-10 Batch 1:  Training Loss: 10.5203 Trainning Accuracy: 47.5000 % Validation Accuracy:  30.1800 %\n",
      "Epoch 10, CIFAR-10 Batch 1:  Training Loss: 3.8464 Trainning Accuracy: 37.5000 % Validation Accuracy:  26.3000 %\n",
      "Epoch 11, CIFAR-10 Batch 1:  Training Loss: 2.1464 Trainning Accuracy: 22.5000 % Validation Accuracy:  12.5200 %\n",
      "Epoch 12, CIFAR-10 Batch 1:  Training Loss: 2.0419 Trainning Accuracy: 25.0000 % Validation Accuracy:  12.0600 %\n",
      "Epoch 13, CIFAR-10 Batch 1:  Training Loss: 2.0043 Trainning Accuracy: 25.0000 % Validation Accuracy:  11.9400 %\n",
      "Epoch 14, CIFAR-10 Batch 1:  Training Loss: 2.0169 Trainning Accuracy: 25.0000 % Validation Accuracy:  12.1000 %\n",
      "Epoch 15, CIFAR-10 Batch 1:  Training Loss: 2.0085 Trainning Accuracy: 20.0000 % Validation Accuracy:  12.1800 %\n",
      "Epoch 16, CIFAR-10 Batch 1:  Training Loss: 2.0019 Trainning Accuracy: 20.0000 % Validation Accuracy:  12.2400 %\n",
      "Epoch 17, CIFAR-10 Batch 1:  Training Loss: 1.9958 Trainning Accuracy: 20.0000 % Validation Accuracy:  12.2200 %\n",
      "Epoch 18, CIFAR-10 Batch 1:  Training Loss: 1.9845 Trainning Accuracy: 20.0000 % Validation Accuracy:  12.4600 %\n",
      "Epoch 19, CIFAR-10 Batch 1:  Training Loss: 1.9820 Trainning Accuracy: 20.0000 % Validation Accuracy:  12.5400 %\n",
      "Epoch 20, CIFAR-10 Batch 1:  Training Loss: 1.9765 Trainning Accuracy: 20.0000 % Validation Accuracy:  12.6200 %\n"
     ]
    }
   ],
   "source": [
    "\"\"\"\n",
    "DON'T MODIFY ANYTHING IN THIS CELL\n",
    "\"\"\"\n",
    "print('Checking the Training on a Single Batch...')\n",
    "with tf.Session() as sess:\n",
    "    # Initializing the variables\n",
    "    sess.run(tf.global_variables_initializer())\n",
    "    \n",
    "    # Training cycle\n",
    "    for epoch in range(epochs):\n",
    "        batch_i = 1\n",
    "        for batch_features, batch_labels in helper.load_preprocess_training_batch(batch_i, batch_size):\n",
    "            train_neural_network(sess, optimizer, keep_probability, batch_features, batch_labels)\n",
    "        print('Epoch {:>2}, CIFAR-10 Batch {}:  '.format(epoch + 1, batch_i), end='')\n",
    "        print_stats(sess, batch_features, batch_labels, cost, accuracy)"
   ]
  },
  {
   "cell_type": "markdown",
   "metadata": {},
   "source": [
    "### Fully Train the Model\n",
    "Now that you got a good accuracy with a single CIFAR-10 batch, try it with all five batches."
   ]
  },
  {
   "cell_type": "code",
   "execution_count": 643,
   "metadata": {
    "collapsed": false
   },
   "outputs": [
    {
     "name": "stdout",
     "output_type": "stream",
     "text": [
      "Training...\n",
      "Epoch  1, CIFAR-10 Batch 1:  Training Loss: 109.0970 Trainning Accuracy: 25.0000 % Validation Accuracy:  21.8400 %\n",
      "Epoch  1, CIFAR-10 Batch 2:  Training Loss: 57.9176 Trainning Accuracy: 20.0000 % Validation Accuracy:  24.7200 %\n",
      "Epoch  1, CIFAR-10 Batch 3:  Training Loss: 55.8688 Trainning Accuracy: 17.5000 % Validation Accuracy:  28.1200 %\n",
      "Epoch  1, CIFAR-10 Batch 4:  Training Loss: 38.5696 Trainning Accuracy: 32.5000 % Validation Accuracy:  30.1600 %\n",
      "Epoch  1, CIFAR-10 Batch 5:  Training Loss: 39.5979 Trainning Accuracy: 22.5000 % Validation Accuracy:  30.8600 %\n",
      "Epoch  2, CIFAR-10 Batch 1:  Training Loss: 34.3115 Trainning Accuracy: 32.5000 % Validation Accuracy:  32.7000 %\n",
      "Epoch  2, CIFAR-10 Batch 2:  Training Loss: 17.5632 Trainning Accuracy: 37.5000 % Validation Accuracy:  34.2400 %\n",
      "Epoch  2, CIFAR-10 Batch 3:  Training Loss: 21.7168 Trainning Accuracy: 32.5000 % Validation Accuracy:  34.5600 %\n",
      "Epoch  2, CIFAR-10 Batch 4:  Training Loss: 15.8356 Trainning Accuracy: 45.0000 % Validation Accuracy:  36.5600 %\n",
      "Epoch  2, CIFAR-10 Batch 5:  Training Loss: 20.1483 Trainning Accuracy: 30.0000 % Validation Accuracy:  36.8800 %\n",
      "Epoch  3, CIFAR-10 Batch 1:  Training Loss: 20.5099 Trainning Accuracy: 37.5000 % Validation Accuracy:  38.2000 %\n",
      "Epoch  3, CIFAR-10 Batch 2:  Training Loss: 10.8914 Trainning Accuracy: 37.5000 % Validation Accuracy:  37.0200 %\n",
      "Epoch  3, CIFAR-10 Batch 3:  Training Loss: 10.5398 Trainning Accuracy: 45.0000 % Validation Accuracy:  38.2400 %\n",
      "Epoch  3, CIFAR-10 Batch 4:  Training Loss: 9.7132 Trainning Accuracy: 50.0000 % Validation Accuracy:  38.9600 %\n",
      "Epoch  3, CIFAR-10 Batch 5:  Training Loss: 10.2220 Trainning Accuracy: 40.0000 % Validation Accuracy:  40.0600 %\n",
      "Epoch  4, CIFAR-10 Batch 1:  Training Loss: 13.4221 Trainning Accuracy: 35.0000 % Validation Accuracy:  38.9600 %\n",
      "Epoch  4, CIFAR-10 Batch 2:  Training Loss: 6.9446 Trainning Accuracy: 45.0000 % Validation Accuracy:  38.7400 %\n",
      "Epoch  4, CIFAR-10 Batch 3:  Training Loss: 6.2214 Trainning Accuracy: 40.0000 % Validation Accuracy:  39.3800 %\n",
      "Epoch  4, CIFAR-10 Batch 4:  Training Loss: 5.4906 Trainning Accuracy: 52.5000 % Validation Accuracy:  40.2200 %\n",
      "Epoch  4, CIFAR-10 Batch 5:  Training Loss: 6.5155 Trainning Accuracy: 47.5000 % Validation Accuracy:  39.8400 %\n",
      "Epoch  5, CIFAR-10 Batch 1:  Training Loss: 8.3081 Trainning Accuracy: 40.0000 % Validation Accuracy:  39.7000 %\n",
      "Epoch  5, CIFAR-10 Batch 2:  Training Loss: 4.2920 Trainning Accuracy: 50.0000 % Validation Accuracy:  39.1200 %\n",
      "Epoch  5, CIFAR-10 Batch 3:  Training Loss: 3.9178 Trainning Accuracy: 47.5000 % Validation Accuracy:  40.8800 %\n",
      "Epoch  5, CIFAR-10 Batch 4:  Training Loss: 2.9487 Trainning Accuracy: 47.5000 % Validation Accuracy:  38.7600 %\n",
      "Epoch  5, CIFAR-10 Batch 5:  Training Loss: 4.6056 Trainning Accuracy: 37.5000 % Validation Accuracy:  38.9600 %\n",
      "Epoch  6, CIFAR-10 Batch 1:  Training Loss: 5.5233 Trainning Accuracy: 27.5000 % Validation Accuracy:  38.6000 %\n",
      "Epoch  6, CIFAR-10 Batch 2:  Training Loss: 2.6870 Trainning Accuracy: 40.0000 % Validation Accuracy:  38.1000 %\n",
      "Epoch  6, CIFAR-10 Batch 3:  Training Loss: 2.5440 Trainning Accuracy: 42.5000 % Validation Accuracy:  38.6200 %\n",
      "Epoch  6, CIFAR-10 Batch 4:  Training Loss: 2.6799 Trainning Accuracy: 30.0000 % Validation Accuracy:  37.3400 %\n",
      "Epoch  6, CIFAR-10 Batch 5:  Training Loss: 2.8993 Trainning Accuracy: 32.5000 % Validation Accuracy:  35.0000 %\n",
      "Epoch  7, CIFAR-10 Batch 1:  Training Loss: 2.5242 Trainning Accuracy: 37.5000 % Validation Accuracy:  35.0800 %\n",
      "Epoch  7, CIFAR-10 Batch 2:  Training Loss: 2.0746 Trainning Accuracy: 35.0000 % Validation Accuracy:  33.7400 %\n",
      "Epoch  7, CIFAR-10 Batch 3:  Training Loss: 1.4343 Trainning Accuracy: 42.5000 % Validation Accuracy:  35.1000 %\n",
      "Epoch  7, CIFAR-10 Batch 4:  Training Loss: 1.8363 Trainning Accuracy: 32.5000 % Validation Accuracy:  36.0200 %\n",
      "Epoch  7, CIFAR-10 Batch 5:  Training Loss: 1.9158 Trainning Accuracy: 22.5000 % Validation Accuracy:  37.4600 %\n",
      "Epoch  8, CIFAR-10 Batch 1:  Training Loss: 1.9525 Trainning Accuracy: 32.5000 % Validation Accuracy:  38.0000 %\n",
      "Epoch  8, CIFAR-10 Batch 2:  Training Loss: 1.7069 Trainning Accuracy: 47.5000 % Validation Accuracy:  38.2400 %\n",
      "Epoch  8, CIFAR-10 Batch 3:  Training Loss: 1.1726 Trainning Accuracy: 42.5000 % Validation Accuracy:  38.8400 %\n",
      "Epoch  8, CIFAR-10 Batch 4:  Training Loss: 1.7274 Trainning Accuracy: 37.5000 % Validation Accuracy:  39.3000 %\n",
      "Epoch  8, CIFAR-10 Batch 5:  Training Loss: 1.7005 Trainning Accuracy: 27.5000 % Validation Accuracy:  39.4000 %\n",
      "Epoch  9, CIFAR-10 Batch 1:  Training Loss: 1.8499 Trainning Accuracy: 42.5000 % Validation Accuracy:  39.3000 %\n",
      "Epoch  9, CIFAR-10 Batch 2:  Training Loss: 1.6091 Trainning Accuracy: 50.0000 % Validation Accuracy:  39.9200 %\n",
      "Epoch  9, CIFAR-10 Batch 3:  Training Loss: 1.1486 Trainning Accuracy: 47.5000 % Validation Accuracy:  40.5400 %\n",
      "Epoch  9, CIFAR-10 Batch 4:  Training Loss: 1.6589 Trainning Accuracy: 45.0000 % Validation Accuracy:  40.4200 %\n",
      "Epoch  9, CIFAR-10 Batch 5:  Training Loss: 1.6000 Trainning Accuracy: 40.0000 % Validation Accuracy:  40.8800 %\n",
      "Epoch 10, CIFAR-10 Batch 1:  Training Loss: 1.8103 Trainning Accuracy: 40.0000 % Validation Accuracy:  40.8800 %\n",
      "Epoch 10, CIFAR-10 Batch 2:  Training Loss: 1.5439 Trainning Accuracy: 52.5000 % Validation Accuracy:  40.8200 %\n",
      "Epoch 10, CIFAR-10 Batch 3:  Training Loss: 1.1324 Trainning Accuracy: 52.5000 % Validation Accuracy:  41.4600 %\n",
      "Epoch 10, CIFAR-10 Batch 4:  Training Loss: 1.5646 Trainning Accuracy: 47.5000 % Validation Accuracy:  41.7000 %\n",
      "Epoch 10, CIFAR-10 Batch 5:  Training Loss: 1.5405 Trainning Accuracy: 45.0000 % Validation Accuracy:  41.2800 %\n",
      "Epoch 11, CIFAR-10 Batch 1:  Training Loss: 1.7498 Trainning Accuracy: 42.5000 % Validation Accuracy:  42.1600 %\n",
      "Epoch 11, CIFAR-10 Batch 2:  Training Loss: 1.4455 Trainning Accuracy: 55.0000 % Validation Accuracy:  42.2600 %\n",
      "Epoch 11, CIFAR-10 Batch 3:  Training Loss: 1.1065 Trainning Accuracy: 55.0000 % Validation Accuracy:  42.8200 %\n",
      "Epoch 11, CIFAR-10 Batch 4:  Training Loss: 1.5185 Trainning Accuracy: 47.5000 % Validation Accuracy:  42.9400 %\n",
      "Epoch 11, CIFAR-10 Batch 5:  Training Loss: 1.4261 Trainning Accuracy: 47.5000 % Validation Accuracy:  42.8000 %\n",
      "Epoch 12, CIFAR-10 Batch 1:  Training Loss: 1.6308 Trainning Accuracy: 45.0000 % Validation Accuracy:  42.9400 %\n",
      "Epoch 12, CIFAR-10 Batch 2:  Training Loss: 1.3610 Trainning Accuracy: 55.0000 % Validation Accuracy:  43.6200 %\n",
      "Epoch 12, CIFAR-10 Batch 3:  Training Loss: 1.0868 Trainning Accuracy: 57.5000 % Validation Accuracy:  44.3800 %\n",
      "Epoch 12, CIFAR-10 Batch 4:  Training Loss: 1.4764 Trainning Accuracy: 60.0000 % Validation Accuracy:  44.5800 %\n",
      "Epoch 12, CIFAR-10 Batch 5:  Training Loss: 1.4532 Trainning Accuracy: 40.0000 % Validation Accuracy:  44.2400 %\n",
      "Epoch 13, CIFAR-10 Batch 1:  Training Loss: 1.5730 Trainning Accuracy: 47.5000 % Validation Accuracy:  44.7000 %\n",
      "Epoch 13, CIFAR-10 Batch 2:  Training Loss: 1.2902 Trainning Accuracy: 57.5000 % Validation Accuracy:  44.9400 %\n",
      "Epoch 13, CIFAR-10 Batch 3:  Training Loss: 1.0722 Trainning Accuracy: 60.0000 % Validation Accuracy:  45.6200 %\n",
      "Epoch 13, CIFAR-10 Batch 4:  Training Loss: 1.4440 Trainning Accuracy: 60.0000 % Validation Accuracy:  45.7600 %\n",
      "Epoch 13, CIFAR-10 Batch 5:  Training Loss: 1.4024 Trainning Accuracy: 42.5000 % Validation Accuracy:  46.3200 %\n",
      "Epoch 14, CIFAR-10 Batch 1:  Training Loss: 1.5075 Trainning Accuracy: 52.5000 % Validation Accuracy:  45.7200 %\n",
      "Epoch 14, CIFAR-10 Batch 2:  Training Loss: 1.2337 Trainning Accuracy: 57.5000 % Validation Accuracy:  46.3600 %\n",
      "Epoch 14, CIFAR-10 Batch 3:  Training Loss: 1.0413 Trainning Accuracy: 62.5000 % Validation Accuracy:  46.0800 %\n",
      "Epoch 14, CIFAR-10 Batch 4:  Training Loss: 1.3942 Trainning Accuracy: 62.5000 % Validation Accuracy:  46.7400 %\n",
      "Epoch 14, CIFAR-10 Batch 5:  Training Loss: 1.3477 Trainning Accuracy: 47.5000 % Validation Accuracy:  47.0600 %\n",
      "Epoch 15, CIFAR-10 Batch 1:  Training Loss: 1.4465 Trainning Accuracy: 47.5000 % Validation Accuracy:  46.7200 %\n",
      "Epoch 15, CIFAR-10 Batch 2:  Training Loss: 1.2076 Trainning Accuracy: 60.0000 % Validation Accuracy:  46.6600 %\n",
      "Epoch 15, CIFAR-10 Batch 3:  Training Loss: 1.0264 Trainning Accuracy: 60.0000 % Validation Accuracy:  47.7400 %\n",
      "Epoch 15, CIFAR-10 Batch 4:  Training Loss: 1.3385 Trainning Accuracy: 60.0000 % Validation Accuracy:  48.1200 %\n",
      "Epoch 15, CIFAR-10 Batch 5:  Training Loss: 1.2670 Trainning Accuracy: 55.0000 % Validation Accuracy:  48.1800 %\n",
      "Epoch 16, CIFAR-10 Batch 1:  Training Loss: 1.3686 Trainning Accuracy: 47.5000 % Validation Accuracy:  47.4000 %\n",
      "Epoch 16, CIFAR-10 Batch 2:  Training Loss: 1.1574 Trainning Accuracy: 57.5000 % Validation Accuracy:  47.6000 %\n",
      "Epoch 16, CIFAR-10 Batch 3:  Training Loss: 1.0008 Trainning Accuracy: 60.0000 % Validation Accuracy:  48.6000 %\n",
      "Epoch 16, CIFAR-10 Batch 4:  Training Loss: 1.3008 Trainning Accuracy: 60.0000 % Validation Accuracy:  49.3600 %\n",
      "Epoch 16, CIFAR-10 Batch 5:  Training Loss: 1.2482 Trainning Accuracy: 52.5000 % Validation Accuracy:  49.0800 %\n",
      "Epoch 17, CIFAR-10 Batch 1:  Training Loss: 1.3127 Trainning Accuracy: 52.5000 % Validation Accuracy:  48.0600 %\n",
      "Epoch 17, CIFAR-10 Batch 2:  Training Loss: 1.1008 Trainning Accuracy: 57.5000 % Validation Accuracy:  48.3800 %\n",
      "Epoch 17, CIFAR-10 Batch 3:  Training Loss: 0.9569 Trainning Accuracy: 65.0000 % Validation Accuracy:  48.9600 %\n",
      "Epoch 17, CIFAR-10 Batch 4:  Training Loss: 1.2629 Trainning Accuracy: 60.0000 % Validation Accuracy:  50.3600 %\n",
      "Epoch 17, CIFAR-10 Batch 5:  Training Loss: 1.2011 Trainning Accuracy: 57.5000 % Validation Accuracy:  49.6200 %\n",
      "Epoch 18, CIFAR-10 Batch 1:  Training Loss: 1.2533 Trainning Accuracy: 57.5000 % Validation Accuracy:  48.8000 %\n",
      "Epoch 18, CIFAR-10 Batch 2:  Training Loss: 1.0725 Trainning Accuracy: 60.0000 % Validation Accuracy:  49.3400 %\n",
      "Epoch 18, CIFAR-10 Batch 3:  Training Loss: 0.9200 Trainning Accuracy: 67.5000 % Validation Accuracy:  50.3400 %\n",
      "Epoch 18, CIFAR-10 Batch 4:  Training Loss: 1.2103 Trainning Accuracy: 60.0000 % Validation Accuracy:  51.2800 %\n",
      "Epoch 18, CIFAR-10 Batch 5:  Training Loss: 1.1418 Trainning Accuracy: 60.0000 % Validation Accuracy:  50.6000 %\n",
      "Epoch 19, CIFAR-10 Batch 1:  Training Loss: 1.2084 Trainning Accuracy: 55.0000 % Validation Accuracy:  49.8400 %\n",
      "Epoch 19, CIFAR-10 Batch 2:  Training Loss: 1.0791 Trainning Accuracy: 60.0000 % Validation Accuracy:  50.8400 %\n",
      "Epoch 19, CIFAR-10 Batch 3:  Training Loss: 0.8810 Trainning Accuracy: 67.5000 % Validation Accuracy:  50.6800 %\n",
      "Epoch 19, CIFAR-10 Batch 4:  Training Loss: 1.1609 Trainning Accuracy: 62.5000 % Validation Accuracy:  51.6400 %\n",
      "Epoch 19, CIFAR-10 Batch 5:  Training Loss: 1.0998 Trainning Accuracy: 57.5000 % Validation Accuracy:  51.1000 %\n",
      "Epoch 20, CIFAR-10 Batch 1:  Training Loss: 1.1588 Trainning Accuracy: 62.5000 % Validation Accuracy:  50.7400 %\n",
      "Epoch 20, CIFAR-10 Batch 2:  Training Loss: 0.9640 Trainning Accuracy: 65.0000 % Validation Accuracy:  51.5400 %\n",
      "Epoch 20, CIFAR-10 Batch 3:  Training Loss: 0.8408 Trainning Accuracy: 70.0000 % Validation Accuracy:  51.6400 %\n",
      "Epoch 20, CIFAR-10 Batch 4:  Training Loss: 1.1407 Trainning Accuracy: 62.5000 % Validation Accuracy:  52.1000 %\n",
      "Epoch 20, CIFAR-10 Batch 5:  Training Loss: 1.0861 Trainning Accuracy: 60.0000 % Validation Accuracy:  51.6800 %\n"
     ]
    }
   ],
   "source": [
    "\"\"\"\n",
    "DON'T MODIFY ANYTHING IN THIS CELL\n",
    "\"\"\"\n",
    "save_model_path = './image_classification'\n",
    "\n",
    "print('Training...')\n",
    "with tf.Session() as sess:\n",
    "    # Initializing the variables\n",
    "    sess.run(tf.global_variables_initializer())\n",
    "    \n",
    "    # Training cycle\n",
    "    for epoch in range(epochs):\n",
    "        # Loop over all batches\n",
    "        n_batches = 5\n",
    "        for batch_i in range(1, n_batches + 1):\n",
    "            for batch_features, batch_labels in helper.load_preprocess_training_batch(batch_i, batch_size):\n",
    "                train_neural_network(sess, optimizer, keep_probability, batch_features, batch_labels)\n",
    "            print('Epoch {:>2}, CIFAR-10 Batch {}:  '.format(epoch + 1, batch_i), end='')\n",
    "            print_stats(sess, batch_features, batch_labels, cost, accuracy)\n",
    "            \n",
    "    # Save Model\n",
    "    saver = tf.train.Saver()\n",
    "    save_path = saver.save(sess, save_model_path)"
   ]
  },
  {
   "cell_type": "markdown",
   "metadata": {},
   "source": [
    "# Checkpoint\n",
    "The model has been saved to disk.\n",
    "## Test Model\n",
    "Test your model against the test dataset.  This will be your final accuracy. You should have an accuracy greater than 50%. If you don't, keep tweaking the model architecture and parameters."
   ]
  },
  {
   "cell_type": "code",
   "execution_count": 644,
   "metadata": {
    "collapsed": false
   },
   "outputs": [
    {
     "name": "stdout",
     "output_type": "stream",
     "text": [
      "Testing Accuracy: 0.5231408227848101\n",
      "\n"
     ]
    },
    {
     "data": {
      "image/png": "[encoded data removed]",
      "text/plain": [
       "<matplotlib.figure.Figure at 0x11ff2c240>"
      ]
     },
     "metadata": {
      "image/png": {
       "height": 319,
       "width": 355
      }
     },
     "output_type": "display_data"
    }
   ],
   "source": [
    "\"\"\"\n",
    "DON'T MODIFY ANYTHING IN THIS CELL\n",
    "\"\"\"\n",
    "%matplotlib inline\n",
    "%config InlineBackend.figure_format = 'retina'\n",
    "\n",
    "import tensorflow as tf\n",
    "import pickle\n",
    "import helper\n",
    "import random\n",
    "\n",
    "# Set batch size if not already set\n",
    "try:\n",
    "    if batch_size:\n",
    "        pass\n",
    "except NameError:\n",
    "    batch_size = 64\n",
    "\n",
    "save_model_path = './image_classification'\n",
    "n_samples = 4\n",
    "top_n_predictions = 3\n",
    "\n",
    "def test_model():\n",
    "    \"\"\"\n",
    "    Test the saved model against the test dataset\n",
    "    \"\"\"\n",
    "\n",
    "    test_features, test_labels = pickle.load(open('preprocess_training.p', mode='rb'))\n",
    "    loaded_graph = tf.Graph()\n",
    "\n",
    "    with tf.Session(graph=loaded_graph) as sess:\n",
    "        # Load model\n",
    "        loader = tf.train.import_meta_graph(save_model_path + '.meta')\n",
    "        loader.restore(sess, save_model_path)\n",
    "\n",
    "        # Get Tensors from loaded model\n",
    "        loaded_x = loaded_graph.get_tensor_by_name('x:0')\n",
    "        loaded_y = loaded_graph.get_tensor_by_name('y:0')\n",
    "        loaded_keep_prob = loaded_graph.get_tensor_by_name('keep_prob:0')\n",
    "        loaded_logits = loaded_graph.get_tensor_by_name('logits:0')\n",
    "        loaded_acc = loaded_graph.get_tensor_by_name('accuracy:0')\n",
    "        \n",
    "        # Get accuracy in batches for memory limitations\n",
    "        test_batch_acc_total = 0\n",
    "        test_batch_count = 0\n",
    "        \n",
    "        for train_feature_batch, train_label_batch in helper.batch_features_labels(test_features, test_labels, batch_size):\n",
    "            test_batch_acc_total += sess.run(\n",
    "                loaded_acc,\n",
    "                feed_dict={loaded_x: train_feature_batch, loaded_y: train_label_batch, loaded_keep_prob: 1.0})\n",
    "            test_batch_count += 1\n",
    "\n",
    "        print('Testing Accuracy: {}\\n'.format(test_batch_acc_total/test_batch_count))\n",
    "\n",
    "        # Print Random Samples\n",
    "        random_test_features, random_test_labels = tuple(zip(*random.sample(list(zip(test_features, test_labels)), n_samples)))\n",
    "        random_test_predictions = sess.run(\n",
    "            tf.nn.top_k(tf.nn.softmax(loaded_logits), top_n_predictions),\n",
    "            feed_dict={loaded_x: random_test_features, loaded_y: random_test_labels, loaded_keep_prob: 1.0})\n",
    "        helper.display_image_predictions(random_test_features, random_test_labels, random_test_predictions)\n",
    "\n",
    "\n",
    "test_model()"
   ]
  },
  {
   "cell_type": "markdown",
   "metadata": {},
   "source": [
    "## Why 50-70% Accuracy?\n",
    "You might be wondering why you can't get an accuracy any higher. First things first, 50% isn't bad for a simple CNN.  Pure guessing would get you 10% accuracy. However, you might notice people are getting scores [well above 70%](http://rodrigob.github.io/are_we_there_yet/build/classification_datasets_results.html#43494641522d3130).  That's because we haven't taught you all there is to know about neural networks. We still need to cover a few more techniques.\n",
    "## Submitting This Project\n",
    "When submitting this project, make sure to run all the cells before saving the notebook.  Save the notebook file as \"dlnd_image_classification.ipynb\" and save it as a HTML file under \"File\" -> \"Download as\".  Include the \"helper.py\" and \"problem_unittests.py\" files in your submission."
   ]
  },
  {
   "cell_type": "code",
   "execution_count": null,
   "metadata": {
    "collapsed": true
   },
   "outputs": [],
   "source": []
  }
 ],
 "metadata": {
  "kernelspec": {
   "display_name": "Python 3",
   "language": "python",
   "name": "python3"
  },
  "language_info": {
   "codemirror_mode": {
    "name": "ipython",
    "version": 3
   },
   "file_extension": ".py",
   "mimetype": "text/x-python",
   "name": "python",
   "nbconvert_exporter": "python",
   "pygments_lexer": "ipython3",
   "version": "3.5.3"
  }
 },
 "nbformat": 4,
 "nbformat_minor": 0
}
